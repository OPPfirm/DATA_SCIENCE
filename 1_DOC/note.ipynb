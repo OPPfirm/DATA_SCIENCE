{
 "cells": [
  {
   "cell_type": "markdown",
   "id": "ce88c2a7",
   "metadata": {},
   "source": [
    "# **QUESTION ML-PRO**"
   ]
  },
  {
   "cell_type": "markdown",
   "id": "1ae1452e",
   "metadata": {},
   "source": [
    "ENCODAGE (OneHoteEncoder)\n",
    "Lorsqu'on utilise un OneHotEncoder avec une liste de catégories définie à l’avance, que se passe-t-il si les nouvelles données à encoder contiennent une variante d’une catégorie déjà connue, par exemple avec une différence de casse comme \"beau\" au lieu de \"Beau\" ? Le modèle reconnaît-il cette valeur ou la considère-t-il comme inconnue ?\n",
    "\n",
    "METRIQUE D'EVALUATION (f1_score)\n",
    "de ce que j'ai compris au travers de l'explication de Guillaume,\n",
    "on utilise la moyenne harmonique de sorte a prendre en compte le \"poid\" de chacun dans la moyenne qu'on veut avoir un peu comme \n",
    "la vitesse des trajet et leur duréé (pour une distance  similaire donc aller-retour, d'ailleur que ce passe t'il pour des distance differente car il me semble qu'on ne puisse pas parler de valeur harmonqiue vu que la vitesse moyenne qui ici est harmonique est basée sur le fait que les d seront annulé breff ) \n",
    "en gros j'aimerai savoir pourquoi on ne ferait pas alors le barycentre vu que l'objectif c'est de taxer le plus faible de sorte qu'il soit bien refleter \n",
    "\n",
    "bonjour à tous ,j'ai une question s'il vous plaît  ,au niveau de \n",
    "l'Intervalle de confiance dans le cas d'une classification \n",
    "si notre dataset n'est  pas uniforment distrbué(guillaume en a parlé dans la partie pratique de l'optimisation des hyperparam)  et donc l'accuracy est peu fiable alors :\n",
    "\n",
    " la determination de l'intervalle de confiance ne se fera pas avec lui je suppose mais plutot avec \n",
    "le recall (si l'important c'est de trouver les vrai ) ,le FPR (si c'est de ne pas se tromper) ou/et la precision (si c'est d'etre precis) ,si  j'ai bien compris l'idée derriere la mise en place d'un tel intervalle \n",
    "\n",
    "si oui alors que devient la formule?\n",
    "je suppose apres avoir discuté avec chatgpt biensur(Quae Sunt Caesaris, Caesaris😅) le \"n\" du SE sera le denominateur de nos metric ?? (precision , n=les positfs \"detectés\" par notre modèle ) vu que ce sont elles qui mettent cette metrique en valeur"
   ]
  },
  {
   "cell_type": "code",
   "execution_count": null,
   "id": "abc5eeed",
   "metadata": {},
   "outputs": [],
   "source": [
    "from sklearn.preprocessing import OneHotEncoder\n",
    "import pandas as pd\n",
    "\n",
    "# Exemple de données\n",
    "data = pd.DataFrame({'Qualité': ['beau', 'moche', 'beau']})\n",
    "\n",
    "# Liste définie par l'utilisateur\n",
    "categories = [['Beau', 'Moche']]\n",
    "\n",
    "# Normalisation des données (conversion en majuscules)\n",
    "data['Qualité'] = data['Qualité'].str.capitalize()\n",
    "\n",
    "# Encodage\n",
    "encoder = OneHotEncoder(categories=categories, handle_unknown='ignore')\n",
    "encoded = encoder.fit_transform(data[['Qualité']]).toarray()\n",
    "\n",
    "print(encoded)"
   ]
  },
  {
   "cell_type": "markdown",
   "id": "5b8b6d20",
   "metadata": {},
   "source": [
    "# **MES FONCTIONS ET TIPS**"
   ]
  },
  {
   "cell_type": "code",
   "execution_count": null,
   "id": "ec570a15",
   "metadata": {},
   "outputs": [],
   "source": [
    "#pour aller chercher mes fonctions (sys: ajoute le chemin au chemin du fichier actuel)\n",
    "# fonction\n",
    "import sys\n",
    "sys.path.append(r\"C:\\Users\\franc\\Desktop\\FORMATION\\DATA_SCIENCE\\ML_PRO\\DOC\")\n",
    "from perso import *\n",
    "\n",
    "\n",
    "#permet d'avoir un  pd a la sortie de mes fit_transform\n",
    "\n",
    "from sklearn import set_config\n",
    "set_config(transform_output=\"pandas\")\n",
    "\n",
    "df=[]\n",
    "#alternatve:\n",
    "pd.DataFrame(df, columns= df.columns )\n",
    "ignore_warnings()\n",
    "\n",
    "\n",
    "train_set ,test_set = train_test_split(df, test_size=0.2 , random_state=0)\n",
    "print(\"train_set : \",train_set.shape )\n",
    "print(\"test_set : \",test_set.shape )"
   ]
  },
  {
   "cell_type": "markdown",
   "id": "7120d06c",
   "metadata": {},
   "source": [
    "## **IMPORTATION DES LIBRAIRIES CLASSIQUES**"
   ]
  },
  {
   "cell_type": "code",
   "execution_count": null,
   "id": "f6d719c7",
   "metadata": {},
   "outputs": [],
   "source": [
    "import numpy as np \n",
    "import pandas as pd\n",
    "import seaborn as sns\n",
    "import matplotlib.pyplot as plt\n"
   ]
  },
  {
   "cell_type": "markdown",
   "id": "ef3c7a8d",
   "metadata": {},
   "source": [
    "# **IMPORTATION POUR PRE_PRO**"
   ]
  },
  {
   "cell_type": "code",
   "execution_count": null,
   "id": "284249b9",
   "metadata": {},
   "outputs": [],
   "source": [
    "\n",
    "#pour la selection de meilleurs variable (SelectkBest) on part depuis sklearn.feature_selection\n",
    "from sklearn.feature_selection import SelectKBest, chi2,mutual_info_regression,f_regression\n",
    "\n",
    "#pour importer les elements de preprocessing \n",
    "#NB : c'est uniquement pour : \n",
    "#-encoding (OneHotEncoder,OrdinalEncoder......)\n",
    "#-features engineering (Polynomial_Features) \n",
    "#-normalisation (StandardScaler , MinMaaxScaler....)\n",
    "#on part de depuis sklearn.preprocessing\n",
    "from sklearn.preprocessing import MinMaxScaler,OneHotEncoder\n",
    "\n",
    "\n",
    "#pour la construction de la pipeline on part depuis deux ,sous_modules de scikit-learn (sklearn) :\n",
    "#sklearn.compose\n",
    "from sklearn.compose import ColumnTransformer\n",
    "#on part de depuis  sklearn.pipeline\n",
    "from sklearn.pipeline import Pipeline ,make_pipeline\n",
    "\n",
    "\n",
    "\n",
    "from sklearn.preprocessing import StandardScaler\n",
    "\n",
    "\n",
    "## pour avoir un dataset (random) propice au score_fun=f_regression\n",
    "from sklearn.datasets import  make_regression"
   ]
  },
  {
   "cell_type": "markdown",
   "id": "9841696d",
   "metadata": {},
   "source": [
    "# **IMPORTATION POUR LA MODELISATION**"
   ]
  },
  {
   "cell_type": "code",
   "execution_count": null,
   "id": "9f8cace8",
   "metadata": {},
   "outputs": [],
   "source": [
    "\n",
    "from sklearn.linear_model import  LinearRegression ,LogisticRegression\n",
    "\n",
    "from sklearn.tree import DecisionTreeClassifier, DecisionTreeRegressor\n",
    "\n",
    "from sklearn.neighbors import KNeighborsRegressor,KNeighborsClassifier,"
   ]
  },
  {
   "cell_type": "markdown",
   "id": "b51a6ba8",
   "metadata": {},
   "source": [
    "_____\n",
    "_____"
   ]
  },
  {
   "cell_type": "markdown",
   "id": "70e21055",
   "metadata": {},
   "source": [
    "# **MARKDOWN cheat_sheet**"
   ]
  },
  {
   "cell_type": "markdown",
   "id": "a17530a3",
   "metadata": {},
   "source": [
    "\n",
    "## Titres\n",
    "Utilisez le caractère `#` pour les titres. Le nombre de `#` correspond au niveau du titre.\n",
    "- `# Titre niveau 1`\n",
    "- `## Titre niveau 2`\n",
    "- `### Titre niveau 3`\n",
    "- ...\n",
    "- `###### Titre niveau 6`\n",
    "\n",
    "## Emphase\n",
    "Vous pouvez mettre en emphase du texte en utilisant :\n",
    "- *Italique* : Entourez le texte par une astérisque ou un soulignement, par exemple `*texte*` ou `_texte_`.\n",
    "- **Gras** : Entourez le texte par deux astérisques ou soulignements, par exemple `**texte**` ou `__texte__`.\n",
    "- ~~Barré~~ : Utilisez deux tildes avant et après le texte, par exemple `~~texte~~`.\n",
    "\n",
    "## Listes\n",
    "### Listes à puces\n",
    "Utilisez `-`, `+` ou `*` pour créer une liste non ordonnée :\n",
    "- Élément 1\n",
    "- Élément 2\n",
    "    - Sous-élément\n",
    "\n",
    "### Listes numérotées\n",
    "Créez une liste ordonnée en précédant chaque ligne d’un numéro suivi d’un point :\n",
    "1. Premier élément\n",
    "2. Deuxième élément\n",
    "     1. Sous-élément\n",
    "     2. Sous-élément\n",
    "\n",
    "## Liens et Images\n",
    "### Liens\n",
    "Pour créer un lien hypertexte :\n",
    "- Syntaxe : `[texte du lien](URL)`\n",
    "- Exemple : [Google](https://www.google.com)\n",
    "\n",
    "### Images\n",
    "Pour intégrer une image :\n",
    "- Syntaxe : `![texte alternatif](URL de l'image)`\n",
    "- Exemple : ![Exemple](https://via.placeholder.com/150)\n",
    "\n",
    "## Citations\n",
    "Utilisez le symbole `>` pour faire une citation :\n",
    "> Ceci est une citation.\n",
    "\n",
    "Vous pouvez imbriquer les citations :\n",
    "> Citation niveau 1  \n",
    ">> Citation niveau 2\n",
    "\n",
    "## Blocs de code\n",
    "Pour afficher du code en ligne, utilisez les backticks : `code en ligne`.\n",
    "\n",
    "Pour un bloc de code, utilisez trois backticks. Vous pouvez spécifier la langue pour la coloration syntaxique :"
   ]
  }
 ],
 "metadata": {
  "kernelspec": {
   "display_name": "ML_PRO",
   "language": "python",
   "name": "python3"
  },
  "language_info": {
   "codemirror_mode": {
    "name": "ipython",
    "version": 3
   },
   "file_extension": ".py",
   "mimetype": "text/x-python",
   "name": "python",
   "nbconvert_exporter": "python",
   "pygments_lexer": "ipython3",
   "version": "3.13.2"
  }
 },
 "nbformat": 4,
 "nbformat_minor": 5
}
