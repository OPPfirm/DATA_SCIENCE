{
 "cells": [
  {
   "cell_type": "markdown",
   "metadata": {},
   "source": [
    "# Librairie"
   ]
  },
  {
   "cell_type": "code",
   "execution_count": 1,
   "metadata": {},
   "outputs": [
    {
     "name": "stdout",
     "output_type": "stream",
     "text": [
      "pandas version: 2.2.2\n",
      "matplotlib version: 3.9.2\n",
      "seaborn version: 0.13.2\n",
      "scipy versiion: 1.13.1\n"
     ]
    }
   ],
   "source": [
    "import numpy as numpy\n",
    "import pandas as pd\n",
    "import matplotlib\n",
    "import matplotlib.pyplot as pyplot\n",
    "import seaborn as sns\n",
    "import scipy \n",
    "from scipy.stats import ttest_ind\n",
    "\n",
    "print(\"pandas version:\" ,pd.__version__)\n",
    "print(\"matplotlib version:\" ,matplotlib.__version__)\n",
    "print(\"seaborn version:\" ,sns.__version__)\n",
    "print(\"scipy versiion:\" , scipy.__version__)"
   ]
  },
  {
   "cell_type": "markdown",
   "metadata": {},
   "source": [
    "## Data"
   ]
  },
  {
   "cell_type": "code",
   "execution_count": 2,
   "metadata": {},
   "outputs": [
    {
     "data": {
      "text/html": [
       "<div>\n",
       "<style scoped>\n",
       "    .dataframe tbody tr th:only-of-type {\n",
       "        vertical-align: middle;\n",
       "    }\n",
       "\n",
       "    .dataframe tbody tr th {\n",
       "        vertical-align: top;\n",
       "    }\n",
       "\n",
       "    .dataframe thead th {\n",
       "        text-align: right;\n",
       "    }\n",
       "</style>\n",
       "<table border=\"1\" class=\"dataframe\">\n",
       "  <thead>\n",
       "    <tr style=\"text-align: right;\">\n",
       "      <th></th>\n",
       "      <th>total_bill</th>\n",
       "      <th>tip</th>\n",
       "      <th>sex</th>\n",
       "      <th>smoker</th>\n",
       "      <th>day</th>\n",
       "      <th>time</th>\n",
       "      <th>size</th>\n",
       "    </tr>\n",
       "  </thead>\n",
       "  <tbody>\n",
       "    <tr>\n",
       "      <th>0</th>\n",
       "      <td>16.99</td>\n",
       "      <td>1.01</td>\n",
       "      <td>Female</td>\n",
       "      <td>No</td>\n",
       "      <td>Sun</td>\n",
       "      <td>Dinner</td>\n",
       "      <td>2</td>\n",
       "    </tr>\n",
       "    <tr>\n",
       "      <th>1</th>\n",
       "      <td>10.34</td>\n",
       "      <td>1.66</td>\n",
       "      <td>Male</td>\n",
       "      <td>No</td>\n",
       "      <td>Sun</td>\n",
       "      <td>Dinner</td>\n",
       "      <td>3</td>\n",
       "    </tr>\n",
       "    <tr>\n",
       "      <th>2</th>\n",
       "      <td>21.01</td>\n",
       "      <td>3.50</td>\n",
       "      <td>Male</td>\n",
       "      <td>No</td>\n",
       "      <td>Sun</td>\n",
       "      <td>Dinner</td>\n",
       "      <td>3</td>\n",
       "    </tr>\n",
       "    <tr>\n",
       "      <th>3</th>\n",
       "      <td>23.68</td>\n",
       "      <td>3.31</td>\n",
       "      <td>Male</td>\n",
       "      <td>No</td>\n",
       "      <td>Sun</td>\n",
       "      <td>Dinner</td>\n",
       "      <td>2</td>\n",
       "    </tr>\n",
       "    <tr>\n",
       "      <th>4</th>\n",
       "      <td>24.59</td>\n",
       "      <td>3.61</td>\n",
       "      <td>Female</td>\n",
       "      <td>No</td>\n",
       "      <td>Sun</td>\n",
       "      <td>Dinner</td>\n",
       "      <td>4</td>\n",
       "    </tr>\n",
       "  </tbody>\n",
       "</table>\n",
       "</div>"
      ],
      "text/plain": [
       "   total_bill   tip     sex smoker  day    time  size\n",
       "0       16.99  1.01  Female     No  Sun  Dinner     2\n",
       "1       10.34  1.66    Male     No  Sun  Dinner     3\n",
       "2       21.01  3.50    Male     No  Sun  Dinner     3\n",
       "3       23.68  3.31    Male     No  Sun  Dinner     2\n",
       "4       24.59  3.61  Female     No  Sun  Dinner     4"
      ]
     },
     "execution_count": 2,
     "metadata": {},
     "output_type": "execute_result"
    }
   ],
   "source": [
    "df= sns.load_dataset(\"tips\")\n",
    "df.head()"
   ]
  },
  {
   "cell_type": "markdown",
   "metadata": {},
   "source": [
    "## Types de variables et comprehension du dataset \n",
    "\n",
    "### variables discretes: \n",
    "- sex : le sexe du client (homme ou femme)\n",
    "\n",
    "- smoker : le client est fumeur ou pas\n",
    "\n",
    "- day : le jour de la semaine où le client est venu\n",
    "\n",
    "- time : le type de repas, le matin (lunch) ou la soirée (le dinner)\n",
    "\n",
    "- size : le nombre de place dont dispose la table du client \n",
    "\n",
    "### Variables continues :\n",
    "- total_bill : le total des depenses effectuése par le client\n",
    "\n",
    "- tip : le pourboire donner par le client\n"
   ]
  },
  {
   "cell_type": "code",
   "execution_count": 4,
   "metadata": {},
   "outputs": [
    {
     "data": {
      "text/plain": [
       "count    244.000000\n",
       "mean       2.998279\n",
       "std        1.383638\n",
       "min        1.000000\n",
       "25%        2.000000\n",
       "50%        2.900000\n",
       "75%        3.562500\n",
       "max       10.000000\n",
       "Name: tip, dtype: float64"
      ]
     },
     "execution_count": 4,
     "metadata": {},
     "output_type": "execute_result"
    }
   ],
   "source": [
    "df[\"tip\"].describe()"
   ]
  },
  {
   "cell_type": "markdown",
   "metadata": {},
   "source": [
    "# TTest_ind"
   ]
  },
  {
   "cell_type": "markdown",
   "metadata": {},
   "source": [
    "H0: \"l n'y a pas de difference entre le pourboire laisser par les hommes et les femmes\""
   ]
  },
  {
   "cell_type": "code",
   "execution_count": 7,
   "metadata": {},
   "outputs": [
    {
     "name": "stderr",
     "output_type": "stream",
     "text": [
      "C:\\Users\\franc\\AppData\\Local\\Temp\\ipykernel_15048\\199809758.py:1: FutureWarning: The default of observed=False is deprecated and will be changed to True in a future version of pandas. Pass observed=False to retain current behavior or observed=True to adopt the future default and silence this warning.\n",
      "  df.groupby(\"sex\")[\"tip\"].describe()\n"
     ]
    },
    {
     "data": {
      "text/html": [
       "<div>\n",
       "<style scoped>\n",
       "    .dataframe tbody tr th:only-of-type {\n",
       "        vertical-align: middle;\n",
       "    }\n",
       "\n",
       "    .dataframe tbody tr th {\n",
       "        vertical-align: top;\n",
       "    }\n",
       "\n",
       "    .dataframe thead th {\n",
       "        text-align: right;\n",
       "    }\n",
       "</style>\n",
       "<table border=\"1\" class=\"dataframe\">\n",
       "  <thead>\n",
       "    <tr style=\"text-align: right;\">\n",
       "      <th></th>\n",
       "      <th>count</th>\n",
       "      <th>mean</th>\n",
       "      <th>std</th>\n",
       "      <th>min</th>\n",
       "      <th>25%</th>\n",
       "      <th>50%</th>\n",
       "      <th>75%</th>\n",
       "      <th>max</th>\n",
       "    </tr>\n",
       "    <tr>\n",
       "      <th>sex</th>\n",
       "      <th></th>\n",
       "      <th></th>\n",
       "      <th></th>\n",
       "      <th></th>\n",
       "      <th></th>\n",
       "      <th></th>\n",
       "      <th></th>\n",
       "      <th></th>\n",
       "    </tr>\n",
       "  </thead>\n",
       "  <tbody>\n",
       "    <tr>\n",
       "      <th>Male</th>\n",
       "      <td>157.0</td>\n",
       "      <td>3.089618</td>\n",
       "      <td>1.489102</td>\n",
       "      <td>1.0</td>\n",
       "      <td>2.0</td>\n",
       "      <td>3.00</td>\n",
       "      <td>3.76</td>\n",
       "      <td>10.0</td>\n",
       "    </tr>\n",
       "    <tr>\n",
       "      <th>Female</th>\n",
       "      <td>87.0</td>\n",
       "      <td>2.833448</td>\n",
       "      <td>1.159495</td>\n",
       "      <td>1.0</td>\n",
       "      <td>2.0</td>\n",
       "      <td>2.75</td>\n",
       "      <td>3.50</td>\n",
       "      <td>6.5</td>\n",
       "    </tr>\n",
       "  </tbody>\n",
       "</table>\n",
       "</div>"
      ],
      "text/plain": [
       "        count      mean       std  min  25%   50%   75%   max\n",
       "sex                                                          \n",
       "Male    157.0  3.089618  1.489102  1.0  2.0  3.00  3.76  10.0\n",
       "Female   87.0  2.833448  1.159495  1.0  2.0  2.75  3.50   6.5"
      ]
     },
     "execution_count": 7,
     "metadata": {},
     "output_type": "execute_result"
    }
   ],
   "source": [
    "df.groupby(\"sex\")[\"tip\"].describe()"
   ]
  },
  {
   "cell_type": "markdown",
   "metadata": {},
   "source": [
    "les femmes laissent un pourboire moyen de 2."
   ]
  },
  {
   "cell_type": "code",
   "execution_count": 18,
   "metadata": {},
   "outputs": [
    {
     "name": "stdout",
     "output_type": "stream",
     "text": [
      "     total_bill   tip     sex smoker   day    time  size\n",
      "0         16.99  1.01  Female     No   Sun  Dinner     2\n",
      "4         24.59  3.61  Female     No   Sun  Dinner     4\n",
      "11        35.26  5.00  Female     No   Sun  Dinner     4\n",
      "14        14.83  3.02  Female     No   Sun  Dinner     2\n",
      "16        10.33  1.67  Female     No   Sun  Dinner     3\n",
      "..          ...   ...     ...    ...   ...     ...   ...\n",
      "226       10.09  2.00  Female    Yes   Fri   Lunch     2\n",
      "229       22.12  2.88  Female    Yes   Sat  Dinner     2\n",
      "238       35.83  4.67  Female     No   Sat  Dinner     3\n",
      "240       27.18  2.00  Female    Yes   Sat  Dinner     2\n",
      "243       18.78  3.00  Female     No  Thur  Dinner     2\n",
      "\n",
      "[87 rows x 7 columns]      total_bill   tip   sex smoker  day    time  size\n",
      "1         10.34  1.66  Male     No  Sun  Dinner     3\n",
      "2         21.01  3.50  Male     No  Sun  Dinner     3\n",
      "3         23.68  3.31  Male     No  Sun  Dinner     2\n",
      "5         25.29  4.71  Male     No  Sun  Dinner     4\n",
      "6          8.77  2.00  Male     No  Sun  Dinner     2\n",
      "..          ...   ...   ...    ...  ...     ...   ...\n",
      "236       12.60  1.00  Male    Yes  Sat  Dinner     2\n",
      "237       32.83  1.17  Male    Yes  Sat  Dinner     2\n",
      "239       29.03  5.92  Male     No  Sat  Dinner     3\n",
      "241       22.67  2.00  Male    Yes  Sat  Dinner     2\n",
      "242       17.82  1.75  Male     No  Sat  Dinner     2\n",
      "\n",
      "[157 rows x 7 columns]\n"
     ]
    }
   ],
   "source": [
    "df_male= df.query( \" `sex`== 'Male' \")\n",
    "df_female=df.query(\"`sex` == 'Female'\")\n",
    "\n",
    "print(df_female,df_male)"
   ]
  },
  {
   "cell_type": "code",
   "execution_count": 21,
   "metadata": {},
   "outputs": [
    {
     "data": {
      "text/plain": [
       "TtestResult(statistic=1.387859705421269, pvalue=0.16645623503456755, df=242.0)"
      ]
     },
     "execution_count": 21,
     "metadata": {},
     "output_type": "execute_result"
    }
   ],
   "source": [
    "x=ttest_ind(df_male[\"tip\"],df_female[\"tip\"])\n",
    "x"
   ]
  },
  {
   "cell_type": "markdown",
   "metadata": {},
   "source": [
    "## En Résumé : "
   ]
  },
  {
   "cell_type": "code",
   "execution_count": 22,
   "metadata": {},
   "outputs": [
    {
     "name": "stdout",
     "output_type": "stream",
     "text": [
      "H0: \"l n'y a pas de difference entre le pourboire laisser par les hommes et les femmes\"\n",
      "nous n'avons pas suffisament d'evidences pour rejeter H0 \n",
      "NB: la p_value est 0.166456235034568\n"
     ]
    }
   ],
   "source": [
    "\n",
    "print(f\"H0: \\\"l n'y a pas de difference entre le pourboire laisser par les hommes et les femmes\\\"\")\n",
    "\n",
    "alpha = 0.02\n",
    "p_value= x .pvalue \n",
    "if p_value< alpha :\n",
    "    print(\"nous avons suffisament d'evidences pour rejeter H0\",\"\\n\" f\"NB: la p_value est {p_value.round(15)}\")\n",
    "else:\n",
    "    print(\"nous n'avons pas suffisament d'evidences pour rejeter H0\",\"\\n\" f\"NB: la p_value est {p_value.round(15)}\")   \n"
   ]
  },
  {
   "cell_type": "code",
   "execution_count": null,
   "metadata": {},
   "outputs": [],
   "source": []
  }
 ],
 "metadata": {
  "kernelspec": {
   "display_name": "base",
   "language": "python",
   "name": "base"
  },
  "language_info": {
   "codemirror_mode": {
    "name": "ipython",
    "version": 3
   },
   "file_extension": ".py",
   "mimetype": "text/x-python",
   "name": "python",
   "nbconvert_exporter": "python",
   "pygments_lexer": "ipython3",
   "version": "3.12.7"
  }
 },
 "nbformat": 4,
 "nbformat_minor": 2
}
