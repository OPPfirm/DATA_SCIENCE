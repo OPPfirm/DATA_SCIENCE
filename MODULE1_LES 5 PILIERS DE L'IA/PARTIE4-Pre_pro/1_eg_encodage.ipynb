{
 "cells": [
  {
   "cell_type": "markdown",
   "metadata": {},
   "source": [
    "## Librairies"
   ]
  },
  {
   "cell_type": "code",
   "execution_count": null,
   "metadata": {},
   "outputs": [
    {
     "name": "stdout",
     "output_type": "stream",
     "text": [
      "sklearn version: 1.5.1\n",
      "seaborn versionr:  0.13.2\n",
      "pandas version : 2.2.2\n",
      "matplotlib.pyplot version  3.9.2\n"
     ]
    }
   ],
   "source": [
    "import numpy as np \n",
    "import pandas as pd\n",
    "import seaborn as sns\n",
    "import matplotlib\n",
    "import matplotlib.pyplot as plt\n",
    "import  sklearn\n",
    "\n",
    "print(f\"sklearn version: {sklearn.__version__}\")\n",
    "print(\"seaborn versionr: \", sns.__version__)\n",
    "print(\"pandas version :\" ,pd.__version__)\n",
    "print(\"matplotlib.pyplot version \" ,matplotlib.__version__)\n"
   ]
  },
  {
   "cell_type": "markdown",
   "metadata": {},
   "source": [
    "# Intoduction aux transformer (sklearn)"
   ]
  },
  {
   "cell_type": "code",
   "execution_count": 5,
   "metadata": {},
   "outputs": [],
   "source": [
    "from sklearn.preprocessing import LabelEncoder"
   ]
  },
  {
   "cell_type": "code",
   "execution_count": 4,
   "metadata": {},
   "outputs": [],
   "source": [
    "x=np.array([\"chien\",\"chien\",\"chat\",\"oiseau\"])"
   ]
  },
  {
   "cell_type": "code",
   "execution_count": null,
   "metadata": {},
   "outputs": [
    {
     "data": {
      "text/plain": [
       "array([1, 1, 0, 2])"
      ]
     },
     "execution_count": 15,
     "metadata": {},
     "output_type": "execute_result"
    }
   ],
   "source": [
    "encoder= LabelEncoder()\n",
    "# LabaleEncoder() est un encoder qui permet d'encoder la vriable qualitative (nom,couleur,vile....)\n",
    "# de notre dataset,sa particularité c'est qu'il convient  quand il n'y a pas d'ordre (chien, chat..... ou abidjan ,dakar) \n",
    "\n",
    "encoder.fit(x)\n",
    "encoder.transform(x)"
   ]
  },
  {
   "cell_type": "code",
   "execution_count": null,
   "metadata": {},
   "outputs": [],
   "source": []
  }
 ],
 "metadata": {
  "kernelspec": {
   "display_name": "base",
   "language": "python",
   "name": "base"
  },
  "language_info": {
   "codemirror_mode": {
    "name": "ipython",
    "version": 3
   },
   "file_extension": ".py",
   "mimetype": "text/x-python",
   "name": "python",
   "nbconvert_exporter": "python",
   "pygments_lexer": "ipython3",
   "version": "3.12.7"
  }
 },
 "nbformat": 4,
 "nbformat_minor": 2
}
