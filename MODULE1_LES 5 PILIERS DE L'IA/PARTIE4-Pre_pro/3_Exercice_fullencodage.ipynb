{
 "cells": [
  {
   "cell_type": "markdown",
   "metadata": {},
   "source": [
    "# Librairies"
   ]
  },
  {
   "cell_type": "code",
   "execution_count": 233,
   "metadata": {},
   "outputs": [],
   "source": [
    "import numpy as np \n",
    "import pandas as pd\n",
    "import seaborn as sns\n",
    "from sklearn.preprocessing import LabelEncoder, LabelBinarizer , OneHotEncoder , OrdinalEncoder\n",
    "from sklearn import set_config\n",
    "set_config(transform_output=\"pandas\")"
   ]
  },
  {
   "cell_type": "markdown",
   "metadata": {},
   "source": [
    "## EXERCICES :\n",
    "\n",
    "### Transformer tous les dataset suivant en format numerique"
   ]
  },
  {
   "cell_type": "markdown",
   "metadata": {},
   "source": [
    "### **Function**"
   ]
  },
  {
   "cell_type": "code",
   "execution_count": null,
   "metadata": {},
   "outputs": [],
   "source": [
    "##creation d'une function pour explorer les valeurs unique des columns au format txt (dtype='object' or category); Explore_col\n",
    "def Explore_col(data):\n",
    "    for column in data.columns:\n",
    "        dtype = data[column].dtype  # Récupère le type de la colonne\n",
    "        if pd.api.types.is_object_dtype(dtype) or isinstance(dtype, pd.CategoricalDtype):  \n",
    "            liste_column = data[column].unique().tolist()  \n",
    "            print(f\"Les valeurs prises par '{column}' sont : {liste_column}\")\n",
    "\n",
    "\n",
    "##cette fonction identifie et retourne la liste des colonnes d'un DataFrame pandas qui sont :\n",
    "# de type texte (dtype='object')\n",
    "# de type catégoriel (dtype='category')\n",
    "def liste_vd(data):\n",
    "    liste_vd = []  # Initialisation AVANT la boucle\n",
    "    for column in data.columns:\n",
    "        dtype = data[column].dtype  \n",
    "        if pd.api.types.is_object_dtype(dtype) or isinstance(dtype, pd.CategoricalDtype):  \n",
    "            liste_vd.append(column)  # Ajouter le nom de la colonne correcte\n",
    "        \n",
    "    return liste_vd  # Retourne la liste après la boucle\n",
    "            \n",
    "def affichage_hb(data,col):\n",
    "      \n",
    "    fig,ax= plt.subplots(2,1,sharex=True)\n",
    "    sns.boxplot(data=data,x=col,ax=ax[1])\n",
    "    sns.histplot(data=data,x=col,ax=ax[0])\n",
    "    plt.suptitle(\"visualisation de la variable {}\".format(col))\n",
    "    plt.show()         \n"
   ]
  },
  {
   "cell_type": "markdown",
   "metadata": {},
   "source": [
    "###  ***Exercice 1 df= tips***"
   ]
  },
  {
   "cell_type": "code",
   "execution_count": 235,
   "metadata": {},
   "outputs": [
    {
     "data": {
      "text/html": [
       "<div>\n",
       "<style scoped>\n",
       "    .dataframe tbody tr th:only-of-type {\n",
       "        vertical-align: middle;\n",
       "    }\n",
       "\n",
       "    .dataframe tbody tr th {\n",
       "        vertical-align: top;\n",
       "    }\n",
       "\n",
       "    .dataframe thead th {\n",
       "        text-align: right;\n",
       "    }\n",
       "</style>\n",
       "<table border=\"1\" class=\"dataframe\">\n",
       "  <thead>\n",
       "    <tr style=\"text-align: right;\">\n",
       "      <th></th>\n",
       "      <th>total_bill</th>\n",
       "      <th>tip</th>\n",
       "      <th>sex</th>\n",
       "      <th>smoker</th>\n",
       "      <th>day</th>\n",
       "      <th>time</th>\n",
       "      <th>size</th>\n",
       "    </tr>\n",
       "  </thead>\n",
       "  <tbody>\n",
       "    <tr>\n",
       "      <th>0</th>\n",
       "      <td>16.99</td>\n",
       "      <td>1.01</td>\n",
       "      <td>Female</td>\n",
       "      <td>No</td>\n",
       "      <td>Sun</td>\n",
       "      <td>Dinner</td>\n",
       "      <td>2</td>\n",
       "    </tr>\n",
       "    <tr>\n",
       "      <th>1</th>\n",
       "      <td>10.34</td>\n",
       "      <td>1.66</td>\n",
       "      <td>Male</td>\n",
       "      <td>No</td>\n",
       "      <td>Sun</td>\n",
       "      <td>Dinner</td>\n",
       "      <td>3</td>\n",
       "    </tr>\n",
       "    <tr>\n",
       "      <th>2</th>\n",
       "      <td>21.01</td>\n",
       "      <td>3.50</td>\n",
       "      <td>Male</td>\n",
       "      <td>No</td>\n",
       "      <td>Sun</td>\n",
       "      <td>Dinner</td>\n",
       "      <td>3</td>\n",
       "    </tr>\n",
       "    <tr>\n",
       "      <th>3</th>\n",
       "      <td>23.68</td>\n",
       "      <td>3.31</td>\n",
       "      <td>Male</td>\n",
       "      <td>No</td>\n",
       "      <td>Sun</td>\n",
       "      <td>Dinner</td>\n",
       "      <td>2</td>\n",
       "    </tr>\n",
       "    <tr>\n",
       "      <th>4</th>\n",
       "      <td>24.59</td>\n",
       "      <td>3.61</td>\n",
       "      <td>Female</td>\n",
       "      <td>No</td>\n",
       "      <td>Sun</td>\n",
       "      <td>Dinner</td>\n",
       "      <td>4</td>\n",
       "    </tr>\n",
       "  </tbody>\n",
       "</table>\n",
       "</div>"
      ],
      "text/plain": [
       "   total_bill   tip     sex smoker  day    time  size\n",
       "0       16.99  1.01  Female     No  Sun  Dinner     2\n",
       "1       10.34  1.66    Male     No  Sun  Dinner     3\n",
       "2       21.01  3.50    Male     No  Sun  Dinner     3\n",
       "3       23.68  3.31    Male     No  Sun  Dinner     2\n",
       "4       24.59  3.61  Female     No  Sun  Dinner     4"
      ]
     },
     "execution_count": 235,
     "metadata": {},
     "output_type": "execute_result"
    }
   ],
   "source": [
    "df= sns.load_dataset(\"tips\")\n",
    "\n",
    "## Target: tip\n",
    "df.head()"
   ]
  },
  {
   "cell_type": "code",
   "execution_count": 236,
   "metadata": {},
   "outputs": [
    {
     "data": {
      "text/html": [
       "<div>\n",
       "<style scoped>\n",
       "    .dataframe tbody tr th:only-of-type {\n",
       "        vertical-align: middle;\n",
       "    }\n",
       "\n",
       "    .dataframe tbody tr th {\n",
       "        vertical-align: top;\n",
       "    }\n",
       "\n",
       "    .dataframe thead th {\n",
       "        text-align: right;\n",
       "    }\n",
       "</style>\n",
       "<table border=\"1\" class=\"dataframe\">\n",
       "  <thead>\n",
       "    <tr style=\"text-align: right;\">\n",
       "      <th></th>\n",
       "      <th>sex_Male</th>\n",
       "      <th>smoker_Yes</th>\n",
       "      <th>day_Sat</th>\n",
       "      <th>day_Sun</th>\n",
       "      <th>day_Thur</th>\n",
       "      <th>time_Lunch</th>\n",
       "    </tr>\n",
       "  </thead>\n",
       "  <tbody>\n",
       "    <tr>\n",
       "      <th>0</th>\n",
       "      <td>0.0</td>\n",
       "      <td>0.0</td>\n",
       "      <td>0.0</td>\n",
       "      <td>1.0</td>\n",
       "      <td>0.0</td>\n",
       "      <td>0.0</td>\n",
       "    </tr>\n",
       "    <tr>\n",
       "      <th>1</th>\n",
       "      <td>1.0</td>\n",
       "      <td>0.0</td>\n",
       "      <td>0.0</td>\n",
       "      <td>1.0</td>\n",
       "      <td>0.0</td>\n",
       "      <td>0.0</td>\n",
       "    </tr>\n",
       "    <tr>\n",
       "      <th>2</th>\n",
       "      <td>1.0</td>\n",
       "      <td>0.0</td>\n",
       "      <td>0.0</td>\n",
       "      <td>1.0</td>\n",
       "      <td>0.0</td>\n",
       "      <td>0.0</td>\n",
       "    </tr>\n",
       "    <tr>\n",
       "      <th>3</th>\n",
       "      <td>1.0</td>\n",
       "      <td>0.0</td>\n",
       "      <td>0.0</td>\n",
       "      <td>1.0</td>\n",
       "      <td>0.0</td>\n",
       "      <td>0.0</td>\n",
       "    </tr>\n",
       "    <tr>\n",
       "      <th>4</th>\n",
       "      <td>0.0</td>\n",
       "      <td>0.0</td>\n",
       "      <td>0.0</td>\n",
       "      <td>1.0</td>\n",
       "      <td>0.0</td>\n",
       "      <td>0.0</td>\n",
       "    </tr>\n",
       "  </tbody>\n",
       "</table>\n",
       "</div>"
      ],
      "text/plain": [
       "   sex_Male  smoker_Yes  day_Sat  day_Sun  day_Thur  time_Lunch\n",
       "0       0.0         0.0      0.0      1.0       0.0         0.0\n",
       "1       1.0         0.0      0.0      1.0       0.0         0.0\n",
       "2       1.0         0.0      0.0      1.0       0.0         0.0\n",
       "3       1.0         0.0      0.0      1.0       0.0         0.0\n",
       "4       0.0         0.0      0.0      1.0       0.0         0.0"
      ]
     },
     "execution_count": 236,
     "metadata": {},
     "output_type": "execute_result"
    }
   ],
   "source": [
    "# le dorp permet deliminer les doublons (si c'est pas une femme c'est quelque chose d'autre\n",
    "# en l'occurence un homme et peut importe ce que le modele croire, le plus important c'est que c'est quelque chose d'autre)\n",
    "\n",
    "encoder= OneHotEncoder(sparse_output=False,drop=\"first\") \n",
    "\n",
    "result_OneHotEncoding=encoder.fit_transform(df[['sex', 'smoker', 'day', 'time']])\n",
    "result_OneHotEncoding.head()\n"
   ]
  },
  {
   "cell_type": "markdown",
   "metadata": {},
   "source": [
    "---\n",
    "---"
   ]
  },
  {
   "cell_type": "markdown",
   "metadata": {},
   "source": [
    "###  ***Exercice 2 df= penguins***"
   ]
  },
  {
   "cell_type": "code",
   "execution_count": 237,
   "metadata": {},
   "outputs": [
    {
     "data": {
      "text/html": [
       "<div>\n",
       "<style scoped>\n",
       "    .dataframe tbody tr th:only-of-type {\n",
       "        vertical-align: middle;\n",
       "    }\n",
       "\n",
       "    .dataframe tbody tr th {\n",
       "        vertical-align: top;\n",
       "    }\n",
       "\n",
       "    .dataframe thead th {\n",
       "        text-align: right;\n",
       "    }\n",
       "</style>\n",
       "<table border=\"1\" class=\"dataframe\">\n",
       "  <thead>\n",
       "    <tr style=\"text-align: right;\">\n",
       "      <th></th>\n",
       "      <th>species</th>\n",
       "      <th>island</th>\n",
       "      <th>bill_length_mm</th>\n",
       "      <th>bill_depth_mm</th>\n",
       "      <th>flipper_length_mm</th>\n",
       "      <th>body_mass_g</th>\n",
       "      <th>sex</th>\n",
       "    </tr>\n",
       "  </thead>\n",
       "  <tbody>\n",
       "    <tr>\n",
       "      <th>0</th>\n",
       "      <td>Adelie</td>\n",
       "      <td>Torgersen</td>\n",
       "      <td>39.1</td>\n",
       "      <td>18.7</td>\n",
       "      <td>181.0</td>\n",
       "      <td>3750.0</td>\n",
       "      <td>Male</td>\n",
       "    </tr>\n",
       "    <tr>\n",
       "      <th>1</th>\n",
       "      <td>Adelie</td>\n",
       "      <td>Torgersen</td>\n",
       "      <td>39.5</td>\n",
       "      <td>17.4</td>\n",
       "      <td>186.0</td>\n",
       "      <td>3800.0</td>\n",
       "      <td>Female</td>\n",
       "    </tr>\n",
       "    <tr>\n",
       "      <th>2</th>\n",
       "      <td>Adelie</td>\n",
       "      <td>Torgersen</td>\n",
       "      <td>40.3</td>\n",
       "      <td>18.0</td>\n",
       "      <td>195.0</td>\n",
       "      <td>3250.0</td>\n",
       "      <td>Female</td>\n",
       "    </tr>\n",
       "    <tr>\n",
       "      <th>3</th>\n",
       "      <td>Adelie</td>\n",
       "      <td>Torgersen</td>\n",
       "      <td>NaN</td>\n",
       "      <td>NaN</td>\n",
       "      <td>NaN</td>\n",
       "      <td>NaN</td>\n",
       "      <td>NaN</td>\n",
       "    </tr>\n",
       "    <tr>\n",
       "      <th>4</th>\n",
       "      <td>Adelie</td>\n",
       "      <td>Torgersen</td>\n",
       "      <td>36.7</td>\n",
       "      <td>19.3</td>\n",
       "      <td>193.0</td>\n",
       "      <td>3450.0</td>\n",
       "      <td>Female</td>\n",
       "    </tr>\n",
       "  </tbody>\n",
       "</table>\n",
       "</div>"
      ],
      "text/plain": [
       "  species     island  bill_length_mm  ...  flipper_length_mm  body_mass_g     sex\n",
       "0  Adelie  Torgersen            39.1  ...              181.0       3750.0    Male\n",
       "1  Adelie  Torgersen            39.5  ...              186.0       3800.0  Female\n",
       "2  Adelie  Torgersen            40.3  ...              195.0       3250.0  Female\n",
       "3  Adelie  Torgersen             NaN  ...                NaN          NaN     NaN\n",
       "4  Adelie  Torgersen            36.7  ...              193.0       3450.0  Female\n",
       "\n",
       "[5 rows x 7 columns]"
      ]
     },
     "execution_count": 237,
     "metadata": {},
     "output_type": "execute_result"
    }
   ],
   "source": [
    "df= sns.load_dataset(\"penguins\")\n",
    "## Target: species\n",
    "df.head()"
   ]
  },
  {
   "cell_type": "code",
   "execution_count": 238,
   "metadata": {},
   "outputs": [
    {
     "data": {
      "text/plain": [
       "species               0\n",
       "island                0\n",
       "bill_length_mm        2\n",
       "bill_depth_mm         2\n",
       "flipper_length_mm     2\n",
       "body_mass_g           2\n",
       "sex                  11\n",
       "dtype: int64"
      ]
     },
     "execution_count": 238,
     "metadata": {},
     "output_type": "execute_result"
    }
   ],
   "source": [
    "df.isna().sum()"
   ]
  },
  {
   "cell_type": "code",
   "execution_count": 239,
   "metadata": {},
   "outputs": [
    {
     "data": {
      "text/html": [
       "<div>\n",
       "<style scoped>\n",
       "    .dataframe tbody tr th:only-of-type {\n",
       "        vertical-align: middle;\n",
       "    }\n",
       "\n",
       "    .dataframe tbody tr th {\n",
       "        vertical-align: top;\n",
       "    }\n",
       "\n",
       "    .dataframe thead th {\n",
       "        text-align: right;\n",
       "    }\n",
       "</style>\n",
       "<table border=\"1\" class=\"dataframe\">\n",
       "  <thead>\n",
       "    <tr style=\"text-align: right;\">\n",
       "      <th></th>\n",
       "      <th>species</th>\n",
       "      <th>island</th>\n",
       "      <th>bill_length_mm</th>\n",
       "      <th>bill_depth_mm</th>\n",
       "      <th>flipper_length_mm</th>\n",
       "      <th>body_mass_g</th>\n",
       "      <th>sex</th>\n",
       "    </tr>\n",
       "  </thead>\n",
       "  <tbody>\n",
       "    <tr>\n",
       "      <th>0</th>\n",
       "      <td>Adelie</td>\n",
       "      <td>Torgersen</td>\n",
       "      <td>39.1</td>\n",
       "      <td>18.7</td>\n",
       "      <td>181.0</td>\n",
       "      <td>3750.0</td>\n",
       "      <td>Male</td>\n",
       "    </tr>\n",
       "    <tr>\n",
       "      <th>1</th>\n",
       "      <td>Adelie</td>\n",
       "      <td>Torgersen</td>\n",
       "      <td>39.5</td>\n",
       "      <td>17.4</td>\n",
       "      <td>186.0</td>\n",
       "      <td>3800.0</td>\n",
       "      <td>Female</td>\n",
       "    </tr>\n",
       "    <tr>\n",
       "      <th>2</th>\n",
       "      <td>Adelie</td>\n",
       "      <td>Torgersen</td>\n",
       "      <td>40.3</td>\n",
       "      <td>18.0</td>\n",
       "      <td>195.0</td>\n",
       "      <td>3250.0</td>\n",
       "      <td>Female</td>\n",
       "    </tr>\n",
       "    <tr>\n",
       "      <th>4</th>\n",
       "      <td>Adelie</td>\n",
       "      <td>Torgersen</td>\n",
       "      <td>36.7</td>\n",
       "      <td>19.3</td>\n",
       "      <td>193.0</td>\n",
       "      <td>3450.0</td>\n",
       "      <td>Female</td>\n",
       "    </tr>\n",
       "    <tr>\n",
       "      <th>5</th>\n",
       "      <td>Adelie</td>\n",
       "      <td>Torgersen</td>\n",
       "      <td>39.3</td>\n",
       "      <td>20.6</td>\n",
       "      <td>190.0</td>\n",
       "      <td>3650.0</td>\n",
       "      <td>Male</td>\n",
       "    </tr>\n",
       "  </tbody>\n",
       "</table>\n",
       "</div>"
      ],
      "text/plain": [
       "  species     island  bill_length_mm  ...  flipper_length_mm  body_mass_g     sex\n",
       "0  Adelie  Torgersen            39.1  ...              181.0       3750.0    Male\n",
       "1  Adelie  Torgersen            39.5  ...              186.0       3800.0  Female\n",
       "2  Adelie  Torgersen            40.3  ...              195.0       3250.0  Female\n",
       "4  Adelie  Torgersen            36.7  ...              193.0       3450.0  Female\n",
       "5  Adelie  Torgersen            39.3  ...              190.0       3650.0    Male\n",
       "\n",
       "[5 rows x 7 columns]"
      ]
     },
     "execution_count": 239,
     "metadata": {},
     "output_type": "execute_result"
    }
   ],
   "source": [
    "df_c=df.copy()\n",
    "df_c.dropna(inplace=True)\n",
    "df_c.head()"
   ]
  },
  {
   "cell_type": "code",
   "execution_count": 240,
   "metadata": {},
   "outputs": [
    {
     "name": "stdout",
     "output_type": "stream",
     "text": [
      "Les valeurs prises par 'species' sont : ['Adelie', 'Chinstrap', 'Gentoo']\n",
      "Les valeurs prises par 'island' sont : ['Torgersen', 'Biscoe', 'Dream']\n",
      "Les valeurs prises par 'sex' sont : ['Male', 'Female']\n"
     ]
    }
   ],
   "source": [
    "\n",
    "Explore_col(data=df_c)"
   ]
  },
  {
   "cell_type": "code",
   "execution_count": 241,
   "metadata": {},
   "outputs": [
    {
     "data": {
      "text/html": [
       "<div>\n",
       "<style scoped>\n",
       "    .dataframe tbody tr th:only-of-type {\n",
       "        vertical-align: middle;\n",
       "    }\n",
       "\n",
       "    .dataframe tbody tr th {\n",
       "        vertical-align: top;\n",
       "    }\n",
       "\n",
       "    .dataframe thead th {\n",
       "        text-align: right;\n",
       "    }\n",
       "</style>\n",
       "<table border=\"1\" class=\"dataframe\">\n",
       "  <thead>\n",
       "    <tr style=\"text-align: right;\">\n",
       "      <th></th>\n",
       "      <th>island_Dream</th>\n",
       "      <th>island_Torgersen</th>\n",
       "      <th>sex_Male</th>\n",
       "    </tr>\n",
       "  </thead>\n",
       "  <tbody>\n",
       "    <tr>\n",
       "      <th>0</th>\n",
       "      <td>0.0</td>\n",
       "      <td>1.0</td>\n",
       "      <td>1.0</td>\n",
       "    </tr>\n",
       "    <tr>\n",
       "      <th>1</th>\n",
       "      <td>0.0</td>\n",
       "      <td>1.0</td>\n",
       "      <td>0.0</td>\n",
       "    </tr>\n",
       "    <tr>\n",
       "      <th>2</th>\n",
       "      <td>0.0</td>\n",
       "      <td>1.0</td>\n",
       "      <td>0.0</td>\n",
       "    </tr>\n",
       "    <tr>\n",
       "      <th>4</th>\n",
       "      <td>0.0</td>\n",
       "      <td>1.0</td>\n",
       "      <td>0.0</td>\n",
       "    </tr>\n",
       "    <tr>\n",
       "      <th>5</th>\n",
       "      <td>0.0</td>\n",
       "      <td>1.0</td>\n",
       "      <td>1.0</td>\n",
       "    </tr>\n",
       "    <tr>\n",
       "      <th>...</th>\n",
       "      <td>...</td>\n",
       "      <td>...</td>\n",
       "      <td>...</td>\n",
       "    </tr>\n",
       "    <tr>\n",
       "      <th>338</th>\n",
       "      <td>0.0</td>\n",
       "      <td>0.0</td>\n",
       "      <td>0.0</td>\n",
       "    </tr>\n",
       "    <tr>\n",
       "      <th>340</th>\n",
       "      <td>0.0</td>\n",
       "      <td>0.0</td>\n",
       "      <td>0.0</td>\n",
       "    </tr>\n",
       "    <tr>\n",
       "      <th>341</th>\n",
       "      <td>0.0</td>\n",
       "      <td>0.0</td>\n",
       "      <td>1.0</td>\n",
       "    </tr>\n",
       "    <tr>\n",
       "      <th>342</th>\n",
       "      <td>0.0</td>\n",
       "      <td>0.0</td>\n",
       "      <td>0.0</td>\n",
       "    </tr>\n",
       "    <tr>\n",
       "      <th>343</th>\n",
       "      <td>0.0</td>\n",
       "      <td>0.0</td>\n",
       "      <td>1.0</td>\n",
       "    </tr>\n",
       "  </tbody>\n",
       "</table>\n",
       "<p>333 rows × 3 columns</p>\n",
       "</div>"
      ],
      "text/plain": [
       "     island_Dream  island_Torgersen  sex_Male\n",
       "0             0.0               1.0       1.0\n",
       "1             0.0               1.0       0.0\n",
       "2             0.0               1.0       0.0\n",
       "4             0.0               1.0       0.0\n",
       "5             0.0               1.0       1.0\n",
       "..            ...               ...       ...\n",
       "338           0.0               0.0       0.0\n",
       "340           0.0               0.0       0.0\n",
       "341           0.0               0.0       1.0\n",
       "342           0.0               0.0       0.0\n",
       "343           0.0               0.0       1.0\n",
       "\n",
       "[333 rows x 3 columns]"
      ]
     },
     "execution_count": 241,
     "metadata": {},
     "output_type": "execute_result"
    }
   ],
   "source": [
    "# le drop permet deliminer les doublons (si c'est pas une femme c'est quelque chose d'autre\n",
    "# en l'occurence un homme et peut importe ce que le modele croire, le plus important c'est que c'est quelque chose d'autre)\n",
    "\n",
    "encoder= OneHotEncoder(sparse_output=False,drop=\"first\") \n",
    "\n",
    "result_OneHotEncoding=encoder.fit_transform(df_c[['island','sex']])\n",
    "result_OneHotEncoding\n"
   ]
  },
  {
   "cell_type": "code",
   "execution_count": 242,
   "metadata": {},
   "outputs": [
    {
     "data": {
      "text/plain": [
       "array([[1, 0, 0],\n",
       "       [1, 0, 0],\n",
       "       [1, 0, 0],\n",
       "       [1, 0, 0],\n",
       "       [1, 0, 0],\n",
       "       [1, 0, 0],\n",
       "       [1, 0, 0],\n",
       "       [1, 0, 0],\n",
       "       [1, 0, 0],\n",
       "       [1, 0, 0]])"
      ]
     },
     "execution_count": 242,
     "metadata": {},
     "output_type": "execute_result"
    }
   ],
   "source": [
    "#Résultat avec LabelBinarizer\n",
    "LabelBinarizer().fit_transform(df[[\"species\"]])[:10]"
   ]
  },
  {
   "cell_type": "code",
   "execution_count": 243,
   "metadata": {},
   "outputs": [
    {
     "name": "stderr",
     "output_type": "stream",
     "text": [
      "c:\\Users\\franc\\anaconda3\\Lib\\site-packages\\sklearn\\preprocessing\\_label.py:110: DataConversionWarning: A column-vector y was passed when a 1d array was expected. Please change the shape of y to (n_samples, ), for example using ravel().\n",
      "  y = column_or_1d(y, warn=True)\n"
     ]
    },
    {
     "data": {
      "text/plain": [
       "array([0, 0, 0, 0, 0, 0, 0, 0, 0, 0, 0, 0, 0, 0, 0, 0, 0, 0, 0, 0, 0, 0,\n",
       "       0, 0, 0, 0, 0, 0, 0, 0, 0, 0, 0, 0, 0, 0, 0, 0, 0, 0, 0, 0, 0, 0,\n",
       "       0, 0, 0, 0, 0, 0, 0, 0, 0, 0, 0, 0, 0, 0, 0, 0, 0, 0, 0, 0, 0, 0,\n",
       "       0, 0, 0, 0, 0, 0, 0, 0, 0, 0, 0, 0, 0, 0, 0, 0, 0, 0, 0, 0, 0, 0,\n",
       "       0, 0, 0, 0, 0, 0, 0, 0, 0, 0, 0, 0, 0, 0, 0, 0, 0, 0, 0, 0, 0, 0,\n",
       "       0, 0, 0, 0, 0, 0, 0, 0, 0, 0, 0, 0, 0, 0, 0, 0, 0, 0, 0, 0, 0, 0,\n",
       "       0, 0, 0, 0, 0, 0, 0, 0, 0, 0, 0, 0, 0, 0, 0, 0, 0, 0, 0, 0, 1, 1,\n",
       "       1, 1, 1, 1, 1, 1, 1, 1, 1, 1, 1, 1, 1, 1, 1, 1, 1, 1, 1, 1, 1, 1,\n",
       "       1, 1, 1, 1, 1, 1, 1, 1, 1, 1, 1, 1, 1, 1, 1, 1, 1, 1, 1, 1, 1, 1,\n",
       "       1, 1, 1, 1, 1, 1, 1, 1, 1, 1, 1, 1, 1, 1, 1, 1, 1, 1, 1, 1, 1, 1,\n",
       "       2, 2, 2, 2, 2, 2, 2, 2, 2, 2, 2, 2, 2, 2, 2, 2, 2, 2, 2, 2, 2, 2,\n",
       "       2, 2, 2, 2, 2, 2, 2, 2, 2, 2, 2, 2, 2, 2, 2, 2, 2, 2, 2, 2, 2, 2,\n",
       "       2, 2, 2, 2, 2, 2, 2, 2, 2, 2, 2, 2, 2, 2, 2, 2, 2, 2, 2, 2, 2, 2,\n",
       "       2, 2, 2, 2, 2, 2, 2, 2, 2, 2, 2, 2, 2, 2, 2, 2, 2, 2, 2, 2, 2, 2,\n",
       "       2, 2, 2, 2, 2, 2, 2, 2, 2, 2, 2, 2, 2, 2, 2, 2, 2, 2, 2, 2, 2, 2,\n",
       "       2, 2, 2, 2, 2, 2, 2, 2, 2, 2, 2, 2, 2, 2])"
      ]
     },
     "execution_count": 243,
     "metadata": {},
     "output_type": "execute_result"
    }
   ],
   "source": [
    "#Résultat avec LabelEncoder\n",
    "LabelEncoder().fit_transform(df[[\"species\"]])"
   ]
  },
  {
   "cell_type": "markdown",
   "metadata": {},
   "source": [
    "---\n",
    "---"
   ]
  },
  {
   "cell_type": "markdown",
   "metadata": {},
   "source": [
    "###  ***Exercice 3 : df= flights***"
   ]
  },
  {
   "cell_type": "code",
   "execution_count": 244,
   "metadata": {},
   "outputs": [
    {
     "data": {
      "text/html": [
       "<div>\n",
       "<style scoped>\n",
       "    .dataframe tbody tr th:only-of-type {\n",
       "        vertical-align: middle;\n",
       "    }\n",
       "\n",
       "    .dataframe tbody tr th {\n",
       "        vertical-align: top;\n",
       "    }\n",
       "\n",
       "    .dataframe thead th {\n",
       "        text-align: right;\n",
       "    }\n",
       "</style>\n",
       "<table border=\"1\" class=\"dataframe\">\n",
       "  <thead>\n",
       "    <tr style=\"text-align: right;\">\n",
       "      <th></th>\n",
       "      <th>year</th>\n",
       "      <th>month</th>\n",
       "      <th>passengers</th>\n",
       "    </tr>\n",
       "  </thead>\n",
       "  <tbody>\n",
       "    <tr>\n",
       "      <th>0</th>\n",
       "      <td>1949</td>\n",
       "      <td>Jan</td>\n",
       "      <td>112</td>\n",
       "    </tr>\n",
       "    <tr>\n",
       "      <th>1</th>\n",
       "      <td>1949</td>\n",
       "      <td>Feb</td>\n",
       "      <td>118</td>\n",
       "    </tr>\n",
       "    <tr>\n",
       "      <th>2</th>\n",
       "      <td>1949</td>\n",
       "      <td>Mar</td>\n",
       "      <td>132</td>\n",
       "    </tr>\n",
       "    <tr>\n",
       "      <th>3</th>\n",
       "      <td>1949</td>\n",
       "      <td>Apr</td>\n",
       "      <td>129</td>\n",
       "    </tr>\n",
       "    <tr>\n",
       "      <th>4</th>\n",
       "      <td>1949</td>\n",
       "      <td>May</td>\n",
       "      <td>121</td>\n",
       "    </tr>\n",
       "  </tbody>\n",
       "</table>\n",
       "</div>"
      ],
      "text/plain": [
       "   year month  passengers\n",
       "0  1949   Jan         112\n",
       "1  1949   Feb         118\n",
       "2  1949   Mar         132\n",
       "3  1949   Apr         129\n",
       "4  1949   May         121"
      ]
     },
     "execution_count": 244,
     "metadata": {},
     "output_type": "execute_result"
    }
   ],
   "source": [
    "df= sns.load_dataset(\"flights\")\n",
    "\n",
    "## Target: passengers\n",
    "df.head()"
   ]
  },
  {
   "cell_type": "code",
   "execution_count": 245,
   "metadata": {},
   "outputs": [
    {
     "name": "stdout",
     "output_type": "stream",
     "text": [
      "Les valeurs prises par 'month' sont : ['Jan', 'Feb', 'Mar', 'Apr', 'May', 'Jun', 'Jul', 'Aug', 'Sep', 'Oct', 'Nov', 'Dec']\n"
     ]
    }
   ],
   "source": [
    "Explore_col(data=df)"
   ]
  },
  {
   "cell_type": "code",
   "execution_count": 246,
   "metadata": {},
   "outputs": [
    {
     "data": {
      "text/plain": [
       "CategoricalDtype(categories=['Jan', 'Feb', 'Mar', 'Apr', 'May', 'Jun', 'Jul', 'Aug',\n",
       "                  'Sep', 'Oct', 'Nov', 'Dec'],\n",
       ", ordered=False, categories_dtype=object)"
      ]
     },
     "execution_count": 246,
     "metadata": {},
     "output_type": "execute_result"
    }
   ],
   "source": [
    "df[\"month\"].dtypes"
   ]
  },
  {
   "cell_type": "code",
   "execution_count": 247,
   "metadata": {},
   "outputs": [
    {
     "data": {
      "text/html": [
       "<div>\n",
       "<style scoped>\n",
       "    .dataframe tbody tr th:only-of-type {\n",
       "        vertical-align: middle;\n",
       "    }\n",
       "\n",
       "    .dataframe tbody tr th {\n",
       "        vertical-align: top;\n",
       "    }\n",
       "\n",
       "    .dataframe thead th {\n",
       "        text-align: right;\n",
       "    }\n",
       "</style>\n",
       "<table border=\"1\" class=\"dataframe\">\n",
       "  <thead>\n",
       "    <tr style=\"text-align: right;\">\n",
       "      <th></th>\n",
       "      <th>month</th>\n",
       "    </tr>\n",
       "  </thead>\n",
       "  <tbody>\n",
       "    <tr>\n",
       "      <th>0</th>\n",
       "      <td>0.0</td>\n",
       "    </tr>\n",
       "    <tr>\n",
       "      <th>1</th>\n",
       "      <td>1.0</td>\n",
       "    </tr>\n",
       "    <tr>\n",
       "      <th>2</th>\n",
       "      <td>2.0</td>\n",
       "    </tr>\n",
       "    <tr>\n",
       "      <th>3</th>\n",
       "      <td>3.0</td>\n",
       "    </tr>\n",
       "    <tr>\n",
       "      <th>4</th>\n",
       "      <td>4.0</td>\n",
       "    </tr>\n",
       "  </tbody>\n",
       "</table>\n",
       "</div>"
      ],
      "text/plain": [
       "   month\n",
       "0    0.0\n",
       "1    1.0\n",
       "2    2.0\n",
       "3    3.0\n",
       "4    4.0"
      ]
     },
     "execution_count": 247,
     "metadata": {},
     "output_type": "execute_result"
    }
   ],
   "source": [
    "# le dorp permet deliminer les doublons (si c'est pas une femme c'est quelque chose d'autre\n",
    "# en l'occurence un homme et peut importe ce que le modele croire, le plus important c'est que c'est quelque chose d'autre)\n",
    "month_order=df[\"month\"].unique().sort_values()\n",
    "encoder= OrdinalEncoder(\n",
    "    categories=[month_order],\n",
    "    handle_unknown='use_encoded_value',\n",
    "    unknown_value=-1,\n",
    "    ) \n",
    "\n",
    "result_OrdinalEncoder=encoder.fit_transform(df[[\"month\"]])\n",
    "result_OrdinalEncoder.head()\n"
   ]
  },
  {
   "cell_type": "markdown",
   "metadata": {},
   "source": [
    "---\n",
    "---"
   ]
  },
  {
   "cell_type": "markdown",
   "metadata": {},
   "source": [
    "###  ***Exercice 4 : df= exercice***"
   ]
  },
  {
   "cell_type": "code",
   "execution_count": 248,
   "metadata": {},
   "outputs": [
    {
     "data": {
      "text/html": [
       "<div>\n",
       "<style scoped>\n",
       "    .dataframe tbody tr th:only-of-type {\n",
       "        vertical-align: middle;\n",
       "    }\n",
       "\n",
       "    .dataframe tbody tr th {\n",
       "        vertical-align: top;\n",
       "    }\n",
       "\n",
       "    .dataframe thead th {\n",
       "        text-align: right;\n",
       "    }\n",
       "</style>\n",
       "<table border=\"1\" class=\"dataframe\">\n",
       "  <thead>\n",
       "    <tr style=\"text-align: right;\">\n",
       "      <th></th>\n",
       "      <th>Unnamed: 0</th>\n",
       "      <th>id</th>\n",
       "      <th>diet</th>\n",
       "      <th>pulse</th>\n",
       "      <th>time</th>\n",
       "      <th>kind</th>\n",
       "    </tr>\n",
       "  </thead>\n",
       "  <tbody>\n",
       "    <tr>\n",
       "      <th>0</th>\n",
       "      <td>0</td>\n",
       "      <td>1</td>\n",
       "      <td>low fat</td>\n",
       "      <td>85</td>\n",
       "      <td>1 min</td>\n",
       "      <td>rest</td>\n",
       "    </tr>\n",
       "    <tr>\n",
       "      <th>1</th>\n",
       "      <td>1</td>\n",
       "      <td>1</td>\n",
       "      <td>low fat</td>\n",
       "      <td>85</td>\n",
       "      <td>15 min</td>\n",
       "      <td>rest</td>\n",
       "    </tr>\n",
       "    <tr>\n",
       "      <th>2</th>\n",
       "      <td>2</td>\n",
       "      <td>1</td>\n",
       "      <td>low fat</td>\n",
       "      <td>88</td>\n",
       "      <td>30 min</td>\n",
       "      <td>rest</td>\n",
       "    </tr>\n",
       "    <tr>\n",
       "      <th>3</th>\n",
       "      <td>3</td>\n",
       "      <td>2</td>\n",
       "      <td>low fat</td>\n",
       "      <td>90</td>\n",
       "      <td>1 min</td>\n",
       "      <td>rest</td>\n",
       "    </tr>\n",
       "    <tr>\n",
       "      <th>4</th>\n",
       "      <td>4</td>\n",
       "      <td>2</td>\n",
       "      <td>low fat</td>\n",
       "      <td>92</td>\n",
       "      <td>15 min</td>\n",
       "      <td>rest</td>\n",
       "    </tr>\n",
       "  </tbody>\n",
       "</table>\n",
       "</div>"
      ],
      "text/plain": [
       "   Unnamed: 0  id     diet  pulse    time  kind\n",
       "0           0   1  low fat     85   1 min  rest\n",
       "1           1   1  low fat     85  15 min  rest\n",
       "2           2   1  low fat     88  30 min  rest\n",
       "3           3   2  low fat     90   1 min  rest\n",
       "4           4   2  low fat     92  15 min  rest"
      ]
     },
     "execution_count": 248,
     "metadata": {},
     "output_type": "execute_result"
    }
   ],
   "source": [
    "df= sns.load_dataset(\"exercise\")\n",
    "\n",
    "## Target: pulse\n",
    "df.head()"
   ]
  },
  {
   "cell_type": "code",
   "execution_count": 249,
   "metadata": {},
   "outputs": [
    {
     "name": "stdout",
     "output_type": "stream",
     "text": [
      "Les valeurs prises par 'diet' sont : ['low fat', 'no fat']\n",
      "Les valeurs prises par 'time' sont : ['1 min', '15 min', '30 min']\n",
      "Les valeurs prises par 'kind' sont : ['rest', 'walking', 'running']\n"
     ]
    }
   ],
   "source": [
    "Explore_col(data=data)"
   ]
  },
  {
   "cell_type": "code",
   "execution_count": 250,
   "metadata": {},
   "outputs": [
    {
     "data": {
      "text/plain": [
       "['diet', 'time', 'kind']"
      ]
     },
     "execution_count": 250,
     "metadata": {},
     "output_type": "execute_result"
    }
   ],
   "source": [
    "liste_vd(data=df)"
   ]
  },
  {
   "cell_type": "markdown",
   "metadata": {},
   "source": [
    "## **ENCODAGE**"
   ]
  },
  {
   "cell_type": "code",
   "execution_count": 251,
   "metadata": {},
   "outputs": [
    {
     "data": {
      "text/html": [
       "<div>\n",
       "<style scoped>\n",
       "    .dataframe tbody tr th:only-of-type {\n",
       "        vertical-align: middle;\n",
       "    }\n",
       "\n",
       "    .dataframe tbody tr th {\n",
       "        vertical-align: top;\n",
       "    }\n",
       "\n",
       "    .dataframe thead th {\n",
       "        text-align: right;\n",
       "    }\n",
       "</style>\n",
       "<table border=\"1\" class=\"dataframe\">\n",
       "  <thead>\n",
       "    <tr style=\"text-align: right;\">\n",
       "      <th></th>\n",
       "      <th>diet</th>\n",
       "      <th>time</th>\n",
       "      <th>kind</th>\n",
       "    </tr>\n",
       "  </thead>\n",
       "  <tbody>\n",
       "    <tr>\n",
       "      <th>0</th>\n",
       "      <td>1.0</td>\n",
       "      <td>0.0</td>\n",
       "      <td>0.0</td>\n",
       "    </tr>\n",
       "    <tr>\n",
       "      <th>1</th>\n",
       "      <td>1.0</td>\n",
       "      <td>1.0</td>\n",
       "      <td>0.0</td>\n",
       "    </tr>\n",
       "    <tr>\n",
       "      <th>2</th>\n",
       "      <td>1.0</td>\n",
       "      <td>2.0</td>\n",
       "      <td>0.0</td>\n",
       "    </tr>\n",
       "    <tr>\n",
       "      <th>3</th>\n",
       "      <td>1.0</td>\n",
       "      <td>0.0</td>\n",
       "      <td>0.0</td>\n",
       "    </tr>\n",
       "    <tr>\n",
       "      <th>4</th>\n",
       "      <td>1.0</td>\n",
       "      <td>1.0</td>\n",
       "      <td>0.0</td>\n",
       "    </tr>\n",
       "  </tbody>\n",
       "</table>\n",
       "</div>"
      ],
      "text/plain": [
       "   diet  time  kind\n",
       "0   1.0   0.0   0.0\n",
       "1   1.0   1.0   0.0\n",
       "2   1.0   2.0   0.0\n",
       "3   1.0   0.0   0.0\n",
       "4   1.0   1.0   0.0"
      ]
     },
     "execution_count": 251,
     "metadata": {},
     "output_type": "execute_result"
    }
   ],
   "source": [
    "# le dorp permet deliminer les doublons (si c'est pas une femme c'est quelque chose d'autre\n",
    "# en l'occurence un homme et peut importe ce que le modele croire, le plus important c'est que c'est quelque chose d'autre)\n",
    "\n",
    "#mise en place de l'ordre\n",
    "diet_order= ['no fat','low fat']\n",
    "time_order=['1 min', '15 min', '30 min']\n",
    "kind_order=['rest', 'walking', 'running']\n",
    "categories= [diet_order,time_order,kind_order]\n",
    "\n",
    "\n",
    "encoder= OrdinalEncoder(\n",
    "    categories=categories,\n",
    "    handle_unknown='use_encoded_value',\n",
    "    unknown_value=-1,\n",
    "    ) \n",
    "\n",
    "result_OrdinalEncoder=encoder.fit_transform(df[['diet', 'time', 'kind']])\n",
    "result_OrdinalEncoder.head()"
   ]
  },
  {
   "cell_type": "markdown",
   "metadata": {},
   "source": [
    "pour la variable 'time' il est preferable de passer les str n int histoire de garder les memes distance qui pourraoent se cacher derriere nos data"
   ]
  },
  {
   "cell_type": "code",
   "execution_count": 252,
   "metadata": {},
   "outputs": [
    {
     "name": "stderr",
     "output_type": "stream",
     "text": [
      "C:\\Users\\franc\\AppData\\Local\\Temp\\ipykernel_22900\\2087297967.py:1: FutureWarning: Downcasting behavior in `replace` is deprecated and will be removed in a future version. To retain the old behavior, explicitly call `result.infer_objects(copy=False)`. To opt-in to the future behavior, set `pd.set_option('future.no_silent_downcasting', True)`\n",
      "  df[\"time\"].replace({'1 min' : 1, '15 min' : 15, '30 min' : 30})\n",
      "C:\\Users\\franc\\AppData\\Local\\Temp\\ipykernel_22900\\2087297967.py:1: FutureWarning: The behavior of Series.replace (and DataFrame.replace) with CategoricalDtype is deprecated. In a future version, replace will only be used for cases that preserve the categories. To change the categories, use ser.cat.rename_categories instead.\n",
      "  df[\"time\"].replace({'1 min' : 1, '15 min' : 15, '30 min' : 30})\n"
     ]
    },
    {
     "data": {
      "text/plain": [
       "0      1\n",
       "1     15\n",
       "2     30\n",
       "3      1\n",
       "4     15\n",
       "      ..\n",
       "85    15\n",
       "86    30\n",
       "87     1\n",
       "88    15\n",
       "89    30\n",
       "Name: time, Length: 90, dtype: category\n",
       "Categories (3, int64): [1, 15, 30]"
      ]
     },
     "execution_count": 252,
     "metadata": {},
     "output_type": "execute_result"
    }
   ],
   "source": [
    "df[\"time\"].replace({'1 min' : 1, '15 min' : 15, '30 min' : 30})"
   ]
  },
  {
   "cell_type": "markdown",
   "metadata": {},
   "source": [
    "---\n",
    "-----"
   ]
  },
  {
   "cell_type": "markdown",
   "metadata": {},
   "source": [
    "###  ***Exercice 5 : df= taxis***\n"
   ]
  },
  {
   "cell_type": "code",
   "execution_count": 253,
   "metadata": {},
   "outputs": [
    {
     "data": {
      "text/html": [
       "<div>\n",
       "<style scoped>\n",
       "    .dataframe tbody tr th:only-of-type {\n",
       "        vertical-align: middle;\n",
       "    }\n",
       "\n",
       "    .dataframe tbody tr th {\n",
       "        vertical-align: top;\n",
       "    }\n",
       "\n",
       "    .dataframe thead th {\n",
       "        text-align: right;\n",
       "    }\n",
       "</style>\n",
       "<table border=\"1\" class=\"dataframe\">\n",
       "  <thead>\n",
       "    <tr style=\"text-align: right;\">\n",
       "      <th></th>\n",
       "      <th>pickup</th>\n",
       "      <th>dropoff</th>\n",
       "      <th>passengers</th>\n",
       "      <th>distance</th>\n",
       "      <th>fare</th>\n",
       "      <th>tip</th>\n",
       "      <th>tolls</th>\n",
       "      <th>total</th>\n",
       "      <th>color</th>\n",
       "      <th>payment</th>\n",
       "      <th>pickup_zone</th>\n",
       "      <th>dropoff_zone</th>\n",
       "      <th>pickup_borough</th>\n",
       "      <th>dropoff_borough</th>\n",
       "    </tr>\n",
       "  </thead>\n",
       "  <tbody>\n",
       "    <tr>\n",
       "      <th>0</th>\n",
       "      <td>2019-03-23 20:21:09</td>\n",
       "      <td>2019-03-23 20:27:24</td>\n",
       "      <td>1</td>\n",
       "      <td>1.60</td>\n",
       "      <td>7.0</td>\n",
       "      <td>2.15</td>\n",
       "      <td>0.0</td>\n",
       "      <td>12.95</td>\n",
       "      <td>yellow</td>\n",
       "      <td>credit card</td>\n",
       "      <td>Lenox Hill West</td>\n",
       "      <td>UN/Turtle Bay South</td>\n",
       "      <td>Manhattan</td>\n",
       "      <td>Manhattan</td>\n",
       "    </tr>\n",
       "    <tr>\n",
       "      <th>1</th>\n",
       "      <td>2019-03-04 16:11:55</td>\n",
       "      <td>2019-03-04 16:19:00</td>\n",
       "      <td>1</td>\n",
       "      <td>0.79</td>\n",
       "      <td>5.0</td>\n",
       "      <td>0.00</td>\n",
       "      <td>0.0</td>\n",
       "      <td>9.30</td>\n",
       "      <td>yellow</td>\n",
       "      <td>cash</td>\n",
       "      <td>Upper West Side South</td>\n",
       "      <td>Upper West Side South</td>\n",
       "      <td>Manhattan</td>\n",
       "      <td>Manhattan</td>\n",
       "    </tr>\n",
       "    <tr>\n",
       "      <th>2</th>\n",
       "      <td>2019-03-27 17:53:01</td>\n",
       "      <td>2019-03-27 18:00:25</td>\n",
       "      <td>1</td>\n",
       "      <td>1.37</td>\n",
       "      <td>7.5</td>\n",
       "      <td>2.36</td>\n",
       "      <td>0.0</td>\n",
       "      <td>14.16</td>\n",
       "      <td>yellow</td>\n",
       "      <td>credit card</td>\n",
       "      <td>Alphabet City</td>\n",
       "      <td>West Village</td>\n",
       "      <td>Manhattan</td>\n",
       "      <td>Manhattan</td>\n",
       "    </tr>\n",
       "    <tr>\n",
       "      <th>3</th>\n",
       "      <td>2019-03-10 01:23:59</td>\n",
       "      <td>2019-03-10 01:49:51</td>\n",
       "      <td>1</td>\n",
       "      <td>7.70</td>\n",
       "      <td>27.0</td>\n",
       "      <td>6.15</td>\n",
       "      <td>0.0</td>\n",
       "      <td>36.95</td>\n",
       "      <td>yellow</td>\n",
       "      <td>credit card</td>\n",
       "      <td>Hudson Sq</td>\n",
       "      <td>Yorkville West</td>\n",
       "      <td>Manhattan</td>\n",
       "      <td>Manhattan</td>\n",
       "    </tr>\n",
       "    <tr>\n",
       "      <th>4</th>\n",
       "      <td>2019-03-30 13:27:42</td>\n",
       "      <td>2019-03-30 13:37:14</td>\n",
       "      <td>3</td>\n",
       "      <td>2.16</td>\n",
       "      <td>9.0</td>\n",
       "      <td>1.10</td>\n",
       "      <td>0.0</td>\n",
       "      <td>13.40</td>\n",
       "      <td>yellow</td>\n",
       "      <td>credit card</td>\n",
       "      <td>Midtown East</td>\n",
       "      <td>Yorkville West</td>\n",
       "      <td>Manhattan</td>\n",
       "      <td>Manhattan</td>\n",
       "    </tr>\n",
       "  </tbody>\n",
       "</table>\n",
       "</div>"
      ],
      "text/plain": [
       "               pickup             dropoff  ...  pickup_borough  dropoff_borough\n",
       "0 2019-03-23 20:21:09 2019-03-23 20:27:24  ...       Manhattan        Manhattan\n",
       "1 2019-03-04 16:11:55 2019-03-04 16:19:00  ...       Manhattan        Manhattan\n",
       "2 2019-03-27 17:53:01 2019-03-27 18:00:25  ...       Manhattan        Manhattan\n",
       "3 2019-03-10 01:23:59 2019-03-10 01:49:51  ...       Manhattan        Manhattan\n",
       "4 2019-03-30 13:27:42 2019-03-30 13:37:14  ...       Manhattan        Manhattan\n",
       "\n",
       "[5 rows x 14 columns]"
      ]
     },
     "execution_count": 253,
     "metadata": {},
     "output_type": "execute_result"
    }
   ],
   "source": [
    "df= sns.load_dataset(\"taxis\")\n",
    "\n",
    "## Target: total\n",
    "df.head()"
   ]
  },
  {
   "cell_type": "code",
   "execution_count": 255,
   "metadata": {},
   "outputs": [
    {
     "data": {
      "text/plain": [
       "pickup             6414\n",
       "dropoff            6425\n",
       "passengers            7\n",
       "distance           1079\n",
       "fare                220\n",
       "tip                 489\n",
       "tolls                16\n",
       "total               898\n",
       "color                 2\n",
       "payment               2\n",
       "pickup_zone         194\n",
       "dropoff_zone        203\n",
       "pickup_borough        4\n",
       "dropoff_borough       5\n",
       "dtype: int64"
      ]
     },
     "execution_count": 255,
     "metadata": {},
     "output_type": "execute_result"
    }
   ],
   "source": [
    "df.nunique()"
   ]
  },
  {
   "cell_type": "code",
   "execution_count": 256,
   "metadata": {},
   "outputs": [
    {
     "name": "stdout",
     "output_type": "stream",
     "text": [
      "Les valeurs prises par 'color' sont : ['yellow', 'green']\n",
      "Les valeurs prises par 'payment' sont : ['credit card', 'cash', nan]\n",
      "Les valeurs prises par 'pickup_zone' sont : ['Lenox Hill West', 'Upper West Side South', 'Alphabet City', 'Hudson Sq', 'Midtown East', 'Times Sq/Theatre District', 'Battery Park City', 'Murray Hill', 'East Harlem South', 'Lincoln Square East', 'LaGuardia Airport', 'Lincoln Square West', 'Financial District North', 'Upper West Side North', 'East Chelsea', 'Midtown Center', 'Gramercy', 'Penn Station/Madison Sq West', 'Sutton Place/Turtle Bay North', 'West Chelsea/Hudson Yards', 'Clinton East', 'Clinton West', 'UN/Turtle Bay South', 'Midtown South', 'Midtown North', 'Garment District', 'Lenox Hill East', 'Flatiron', 'TriBeCa/Civic Center', nan, 'Upper East Side North', 'West Village', 'Greenwich Village South', 'JFK Airport', 'East Village', 'Union Sq', 'Yorkville West', 'Central Park', 'Meatpacking/West Village West', 'Kips Bay', 'Morningside Heights', 'Astoria', 'East Tremont', 'Upper East Side South', 'Financial District South', 'Bloomingdale', 'Queensboro Hill', 'SoHo', 'Brooklyn Heights', 'Yorkville East', 'Manhattan Valley', 'DUMBO/Vinegar Hill', 'Little Italy/NoLiTa', 'Mott Haven/Port Morris', 'Greenwich Village North', 'Stuyvesant Heights', 'Lower East Side', 'East Harlem North', 'Chinatown', 'Fort Greene', 'Steinway', 'Central Harlem', 'Crown Heights North', 'Seaport', 'Two Bridges/Seward Park', 'Boerum Hill', 'Williamsburg (South Side)', 'Rosedale', 'Flushing', 'Old Astoria', 'Soundview/Castle Hill', 'Stuy Town/Peter Cooper Village', 'World Trade Center', 'Sunnyside', 'Washington Heights South', 'Prospect Heights', 'East New York', 'Hamilton Heights', 'Cobble Hill', 'Long Island City/Queens Plaza', 'Central Harlem North', 'Manhattanville', 'East Flatbush/Farragut', 'Elmhurst', 'East Concourse/Concourse Village', 'Park Slope', 'Greenpoint', 'Williamsburg (North Side)', 'Long Island City/Hunters Point', 'South Ozone Park', 'Ridgewood', 'Downtown Brooklyn/MetroTech', 'Queensbridge/Ravenswood', 'Williamsbridge/Olinville', 'Bedford', 'Gowanus', 'Jackson Heights', 'South Jamaica', 'Bushwick North', 'West Concourse', 'Queens Village', 'Windsor Terrace', 'Flatlands', 'Van Cortlandt Village', 'Woodside', 'East Williamsburg', 'Fordham South', 'East Elmhurst', 'Kew Gardens', 'Flushing Meadows-Corona Park', 'Marine Park/Mill Basin', 'Carroll Gardens', 'Canarsie', 'East Flatbush/Remsen Village', 'Jamaica', 'Marble Hill', 'Bushwick South', 'Erasmus', 'Claremont/Bathgate', 'Pelham Bay', 'Soundview/Bruckner', 'South Williamsburg', 'Battery Park', 'Forest Hills', 'Maspeth', 'Bronx Park', 'Starrett City', 'Brighton Beach', 'Brownsville', 'Highbridge Park', 'Bensonhurst East', 'Mount Hope', 'Prospect-Lefferts Gardens', 'Bayside', 'Douglaston', 'Midwood', 'North Corona', 'Homecrest', 'Westchester Village/Unionport', 'University Heights/Morris Heights', 'Inwood', 'Washington Heights North', 'Flatbush/Ditmas Park', 'Rego Park', 'Riverdale/North Riverdale/Fieldston', 'Jamaica Estates', 'Borough Park', 'Sunset Park West', 'Belmont', 'Auburndale', 'Schuylerville/Edgewater Park', 'Co-Op City', 'Crown Heights South', 'Spuyten Duyvil/Kingsbridge', 'Morrisania/Melrose', 'Hollis', 'Parkchester', 'Coney Island', 'East Flushing', 'Richmond Hill', 'Bedford Park', 'Highbridge', 'Clinton Hill', 'Sheepshead Bay', 'Madison', 'Dyker Heights', 'Cambria Heights', 'Pelham Parkway', 'Hunts Point', 'Melrose South', 'Springfield Gardens North', 'Bay Ridge', 'Elmhurst/Maspeth', 'Crotona Park East', 'Bronxdale', 'Briarwood/Jamaica Hills', 'Van Nest/Morris Park', 'Murray Hill-Queens', 'Kingsbridge Heights', 'Whitestone', 'Saint Albans', 'Allerton/Pelham Gardens', 'Howard Beach', 'Norwood', 'Bensonhurst West', 'Columbia Street', 'Middle Village', 'Prospect Park', 'Ozone Park', 'Gravesend', 'Glendale', 'Kew Gardens Hills', 'Woodlawn/Wakefield', 'West Farms/Bronx River', 'Hillcrest/Pomonok']\n",
      "Les valeurs prises par 'dropoff_zone' sont : ['UN/Turtle Bay South', 'Upper West Side South', 'West Village', 'Yorkville West', 'Midtown East', 'Two Bridges/Seward Park', 'Flatiron', 'Midtown Center', 'Central Park', 'Astoria', 'Manhattan Valley', 'Times Sq/Theatre District', 'Clinton East', 'Meatpacking/West Village West', 'East Harlem South', 'East Chelsea', 'Kips Bay', 'Murray Hill', 'Sutton Place/Turtle Bay North', 'Midtown North', 'Gramercy', 'Midtown South', 'Seaport', 'Lenox Hill West', 'East Harlem North', 'Garment District', 'West Chelsea/Hudson Yards', 'Clinton West', 'Lenox Hill East', 'Carroll Gardens', nan, 'Washington Heights South', 'Battery Park City', 'Penn Station/Madison Sq West', 'Union Sq', 'Sunnyside', 'Lincoln Square West', 'Upper East Side North', 'Financial District North', 'Lower East Side', 'Yorkville East', 'Upper West Side North', 'Jackson Heights', 'Upper East Side South', 'Chinatown', 'Stuy Town/Peter Cooper Village', 'Morningside Heights', 'Lincoln Square East', 'Little Italy/NoLiTa', 'Downtown Brooklyn/MetroTech', 'DUMBO/Vinegar Hill', 'Greenwich Village South', 'LaGuardia Airport', 'East Village', 'JFK Airport', 'Marble Hill', 'Greenwich Village North', 'Williamsburg (North Side)', 'Brooklyn Heights', 'Riverdale/North Riverdale/Fieldston', 'Steinway', 'Sheepshead Bay', 'Crown Heights North', 'TriBeCa/Civic Center', 'Midwood', 'Alphabet City', 'Boerum Hill', 'Financial District South', 'Cypress Hills', 'Park Slope', 'Central Harlem', 'North Corona', 'Greenpoint', 'Long Island City/Hunters Point', 'Hillcrest/Pomonok', 'Bloomingdale', 'Baisley Park', 'Crown Heights South', 'Soundview/Castle Hill', 'World Trade Center', 'Randalls Island', 'Melrose South', 'Columbia Street', 'Williamsburg (South Side)', 'SoHo', 'Hudson Sq', 'Fort Greene', 'Cobble Hill', 'Clinton Hill', 'Central Harlem North', 'East Flushing', 'Old Astoria', 'Forest Hills', 'Briarwood/Jamaica Hills', 'East New York', 'Ridgewood', 'Elmhurst', 'East Williamsburg', 'Williamsbridge/Olinville', 'University Heights/Morris Heights', 'Bushwick South', 'Flushing Meadows-Corona Park', 'Long Island City/Queens Plaza', 'Manhattanville', 'Elmhurst/Maspeth', 'Inwood', 'Woodhaven', 'Hamilton Heights', 'Middle Village', 'Prospect Heights', 'Richmond Hill', 'Mount Hope', 'Bushwick North', 'Canarsie', 'Gowanus', 'Washington Heights North', 'Westchester Village/Unionport', 'Queens Village', 'Woodside', 'Bedford', 'Highbridge', 'Stuyvesant Heights', 'Queensbridge/Ravenswood', 'East Flatbush/Farragut', 'Mott Haven/Port Morris', 'Prospect-Lefferts Gardens', 'Sunset Park West', 'South Jamaica', 'Howard Beach', 'South Williamsburg', 'Woodlawn/Wakefield', 'Rego Park', 'West Concourse', 'Manhattan Beach', 'Battery Park', 'Bronxdale', 'West Brighton', 'Flatlands', 'Glendale', 'East Concourse/Concourse Village', 'Ozone Park', 'South Ozone Park', 'Norwood', 'Parkchester', 'East Tremont', 'Douglaston', 'Windsor Terrace', 'Bensonhurst West', 'Kew Gardens', 'Flatbush/Ditmas Park', 'Starrett City', 'Roosevelt Island', 'Bay Ridge', 'Saint Albans', 'Pelham Parkway', 'Prospect Park', 'Jamaica', 'Murray Hill-Queens', 'Stapleton', 'Maspeth', 'Dyker Heights', 'Allerton/Pelham Gardens', 'Co-Op City', 'Belmont', 'Bensonhurst East', 'Kew Gardens Hills', 'Crotona Park East', 'Van Cortlandt Village', 'Springfield Gardens South', 'Corona', 'Brownsville', 'Red Hook', 'Bayside', 'Van Nest/Morris Park', 'Gravesend', 'Oakland Gardens', 'Claremont/Bathgate', 'Ocean Hill', 'Brighton Beach', 'Spuyten Duyvil/Kingsbridge', 'Kingsbridge Heights', 'Soundview/Bruckner', 'Fresh Meadows', 'East Elmhurst', 'Hunts Point', 'Cambria Heights', 'Whitestone', 'East Flatbush/Remsen Village', 'Rosedale', 'Inwood Hill Park', 'Bedford Park', 'Jamaica Estates', 'Borough Park', 'Flushing', 'Auburndale', 'Bath Beach', 'Queensboro Hill', 'Morrisania/Melrose', 'Madison', 'Homecrest', 'Eastchester', 'College Point', 'Brooklyn Navy Yard', 'Marine Park/Mill Basin']\n",
      "Les valeurs prises par 'pickup_borough' sont : ['Manhattan', 'Queens', nan, 'Bronx', 'Brooklyn']\n",
      "Les valeurs prises par 'dropoff_borough' sont : ['Manhattan', 'Queens', 'Brooklyn', nan, 'Bronx', 'Staten Island']\n"
     ]
    }
   ],
   "source": [
    "Explore_col(df)"
   ]
  },
  {
   "cell_type": "code",
   "execution_count": 257,
   "metadata": {},
   "outputs": [
    {
     "data": {
      "text/plain": [
       "['color',\n",
       " 'payment',\n",
       " 'pickup_zone',\n",
       " 'dropoff_zone',\n",
       " 'pickup_borough',\n",
       " 'dropoff_borough']"
      ]
     },
     "execution_count": 257,
     "metadata": {},
     "output_type": "execute_result"
    }
   ],
   "source": [
    "liste_vd(df)"
   ]
  }
 ],
 "metadata": {
  "kernelspec": {
   "display_name": "base",
   "language": "python",
   "name": "base"
  },
  "language_info": {
   "codemirror_mode": {
    "name": "ipython",
    "version": 3
   },
   "file_extension": ".py",
   "mimetype": "text/x-python",
   "name": "python",
   "nbconvert_exporter": "python",
   "pygments_lexer": "ipython3",
   "version": "3.12.7"
  }
 },
 "nbformat": 4,
 "nbformat_minor": 2
}
