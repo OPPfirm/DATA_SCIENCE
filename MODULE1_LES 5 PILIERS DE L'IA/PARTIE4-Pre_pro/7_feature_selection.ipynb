{
 "cells": [
  {
   "cell_type": "markdown",
   "metadata": {},
   "source": [
    "## Librairies"
   ]
  },
  {
   "cell_type": "code",
   "execution_count": null,
   "metadata": {},
   "outputs": [],
   "source": [
    "# Importation des bibliothèques nécessaires\n",
    "import numpy as np\n",
    "from sklearn.datasets import load_iris\n",
    "from sklearn.feature_selection import SelectKBest, chi2\n",
    "from sklearn.model_selection import train_test_split\n",
    "from sklearn.ensemble import RandomForestClassifier\n",
    "from sklearn.metrics import accuracy_score\n",
    "\n"
   ]
  },
  {
   "cell_type": "code",
   "execution_count": 12,
   "metadata": {},
   "outputs": [],
   "source": [
    "# fonction\n",
    "import sys\n",
    "sys.path.append(r\"C:\\Users\\franc\\Desktop\\DATA_SCIENCE\\ML_PRO\\DOC\")\n",
    "from perso import *"
   ]
  },
  {
   "cell_type": "code",
   "execution_count": 13,
   "metadata": {},
   "outputs": [],
   "source": [
    "# Charger le jeu de données Iris\n",
    "data = load_iris()\n",
    "\n",
    "X = data.data  # Données d'entrée (features)\n",
    "y = data.target  # Cible (labels)\n",
    "\n",
    "# Diviser les données en jeu d'entraînement et jeu de test\n",
    "X_train, X_test, y_train, y_test = train_test_split(X, y, test_size=0.3, random_state=42)"
   ]
  },
  {
   "cell_type": "code",
   "execution_count": 15,
   "metadata": {},
   "outputs": [
    {
     "name": "stdout",
     "output_type": "stream",
     "text": [
      "Indices des caractéristiques sélectionnées: [2 3]\n",
      "Précision du modèle après sélection des caractéristiques : 100.00%\n"
     ]
    }
   ],
   "source": [
    "\n",
    "\n",
    "# Appliquer SelectKBest avec le test du Chi-carré pour sélectionner les K meilleures caractéristiques\n",
    "# Ici, on sélectionne les 2 meilleures caractéristiques (K=2)\n",
    "selector = SelectKBest(score_func=chi2, k=2)  # Chi-carré pour la sélection\n",
    "X_train_selected = selector.fit_transform(X_train, y_train)  # Sélectionner les caractéristiques d'entraînement\n",
    "X_test_selected = selector.transform(X_test)  # Appliquer la même sélection sur les données de test\n",
    "\n",
    "# Vérification des indices des caractéristiques sélectionnées\n",
    "print(\"Indices des caractéristiques sélectionnées:\", selector.get_support(indices=True))\n",
    "\n",
    "# Entraînement d'un modèle avec les caractéristiques sélectionnées\n",
    "model = RandomForestClassifier(random_state=42)\n",
    "model.fit(X_train_selected, y_train)\n",
    "\n",
    "# Prédiction sur le jeu de test\n",
    "y_pred = model.predict(X_test_selected)\n",
    "\n",
    "# Calcul de la précision\n",
    "accuracy = accuracy_score(y_test, y_pred)\n",
    "print(f\"Précision du modèle après sélection des caractéristiques : {accuracy * 100:.2f}%\")\n"
   ]
  },
  {
   "cell_type": "markdown",
   "metadata": {},
   "source": [
    "Explication détaillée du code :\n",
    "\n",
    "Importation des bibliothèques : On importe les bibliothèques nécessaires pour charger les données, \n",
    "effectuer la sélection des caractéristiques, entraîner un modèle, et évaluer la performance.\n",
    "\n",
    "Chargement du jeu de données Iris : Le jeu de données Iris est un classique en machine learning. \n",
    "Il contient 150 échantillons répartis sur 4 caractéristiques. L'objectif est de classer les fleurs en trois espèces (setosa, versicolor, virginica).\n",
    "\n",
    "Diviser les données : Les données sont divisées en un ensemble d'entraînement (70%) et un ensemble de test (30%) à l'aide de train_test_split.\n",
    "\n",
    "Sélection des meilleures caractéristiques avec SelectKBest :\n",
    "\n",
    "On utilise SelectKBest pour sélectionner les K meilleures caractéristiques en fonction d'un critère de score.\n",
    "\n",
    "Ici, le score utilisé est le test du Chi-carré (chi2), qui est une méthode statistique pour évaluer \n",
    "l'indépendance entre les variables et la cible (utile pour des problèmes de classification).\n",
    "\n",
    "k=2 signifie qu'on veut sélectionner les 2 meilleures caractéristiques.\n",
    "\n",
    "Entraînement du modèle : Après avoir sélectionné les meilleures caractéristiques d'entraînement, \n",
    "on entraîne un RandomForestClassifier sur ces caractéristiques.\n",
    "\n",
    "Prédiction et évaluation : Le modèle est utilisé pour faire des prédictions sur les données de test, \n",
    "et la précision du modèle est calculée pour évaluer la performance.\n",
    "\n",
    "Points clés :\n",
    "SelectKBest permet de réduire la dimensionnalité en sélectionnant les caractéristiques les plus \n",
    "importantes, ce qui peut améliorer la performance du modèle, surtout lorsqu'il y a des caractéristiques redondantes ou non informatives.\n",
    "\n",
    "score_func=chi2 : Cette fonction est utilisée pour sélectionner les meilleures caractéristiques  basées sur\n",
    " un test statistique. D'autres fonctions comme f_classif (ANOVA) peuvent être utilisées pour des problèmes de classification.\n",
    "\n",
    "L'utilisation de k=2 ici sélectionne les deux caractéristiques les plus pertinentes pour la tâche, mais tu \n",
    "peux ajuster k en fonction de ton problème.\n",
    "\n",
    "Cela te permet de comprendre comment sélectionner efficacement les caractéristiques les plus importantes pour entraîner ton modèle."
   ]
  }
 ],
 "metadata": {
  "kernelspec": {
   "display_name": "ML_PRO",
   "language": "python",
   "name": "python3"
  },
  "language_info": {
   "codemirror_mode": {
    "name": "ipython",
    "version": 3
   },
   "file_extension": ".py",
   "mimetype": "text/x-python",
   "name": "python",
   "nbconvert_exporter": "python",
   "pygments_lexer": "ipython3",
   "version": "3.13.2"
  }
 },
 "nbformat": 4,
 "nbformat_minor": 2
}
