{
 "cells": [
  {
   "cell_type": "code",
   "execution_count": null,
   "id": "72c9a56f",
   "metadata": {},
   "outputs": [],
   "source": [
    "class StrategieSimple:\n",
    "    def __init__(self, data, params):\n",
    "        self.data = data\n",
    "        self.params = params\n",
    "        self.start_date_backtest = data.index[0]\n",
    "\n",
    "    def get_entry_signal(self, current_time):\n",
    "        # logiques simples\n",
    "        return 1, current_time  # buy signal\n",
    "\n",
    "    def get_exit_signal(self, current_time):\n",
    "        return 0.05, current_time  # close trade with 5% return\n"
   ]
  },
  {
   "cell_type": "code",
   "execution_count": 2,
   "id": "91f959ec",
   "metadata": {},
   "outputs": [],
   "source": [
    "class lookname:\n",
    "    def __init__(self) -> None:\n",
    "        self.name=self\n",
    "        pass\n",
    "    "
   ]
  },
  {
   "cell_type": "code",
   "execution_count": 3,
   "id": "687c4c6f",
   "metadata": {},
   "outputs": [],
   "source": [
    "one=lookname()"
   ]
  },
  {
   "cell_type": "code",
   "execution_count": null,
   "id": "d760b724",
   "metadata": {},
   "outputs": [
    {
     "data": {
      "text/plain": [
       "<__main__.lookname at 0x19687b36510>"
      ]
     },
     "execution_count": 4,
     "metadata": {},
     "output_type": "execute_result"
    }
   ],
   "source": [
    "one.name"
   ]
  },
  {
   "cell_type": "code",
   "execution_count": null,
   "id": "29f35491",
   "metadata": {},
   "outputs": [],
   "source": []
  }
 ],
 "metadata": {
  "kernelspec": {
   "display_name": "HOLDALL",
   "language": "python",
   "name": "python3"
  },
  "language_info": {
   "codemirror_mode": {
    "name": "ipython",
    "version": 3
   },
   "file_extension": ".py",
   "mimetype": "text/x-python",
   "name": "python",
   "nbconvert_exporter": "python",
   "pygments_lexer": "ipython3",
   "version": "3.12.9"
  }
 },
 "nbformat": 4,
 "nbformat_minor": 5
}
