{
 "cells": [
  {
   "cell_type": "code",
   "execution_count": 16,
   "id": "63c5a104",
   "metadata": {},
   "outputs": [],
   "source": [
    "import matplotlib.pyplot as plt\n",
    "import numpy as np\n",
    "\n",
    "# Activez ces 2 lignes pour afficher le graphique en 3D dans une fenetre.\n",
    "import matplotlib\n",
    "matplotlib.use('TkAgg') "
   ]
  },
  {
   "cell_type": "markdown",
   "id": "ba001c47",
   "metadata": {},
   "source": [
    "# Création d'un plan\n",
    "\n",
    "Ici, nous allons tracer un plan, c'est-a-dire calculer le résultat d'une fonction linéaire:\n",
    "$$f(x_1, x_2) = w_1 x_1 + w_2 x_2 + b$$\n",
    "\n",
    "toutes les valeurs ($x_1, x_2$) de l'espace.\n",
    "\n",
    "\n"
   ]
  },
  {
   "cell_type": "markdown",
   "id": "3b02dfcc",
   "metadata": {},
   "source": [
    "![alt text](meshgrid.png \"Title\")"
   ]
  },
  {
   "cell_type": "markdown",
   "id": "a71e1258",
   "metadata": {},
   "source": [
    "Pour cela, on utilise une Meshgrid afin de créer les tableaux suivants :"
   ]
  },
  {
   "cell_type": "code",
   "execution_count": 32,
   "id": "e1b2aca1",
   "metadata": {},
   "outputs": [
    {
     "data": {
      "text/plain": [
       "array([-10,  -9,  -8,  -7,  -6,  -5,  -4,  -3,  -2,  -1,   0,   1,   2,\n",
       "         3,   4,   5,   6,   7,   8,   9])"
      ]
     },
     "execution_count": 32,
     "metadata": {},
     "output_type": "execute_result"
    }
   ],
   "source": [
    "min_born=-10\n",
    "max_born=10\n",
    "x1 = np.arange(min_born,max_born, 1)\n",
    "x2 = np.arange(min_born, max_born, 1)\n",
    "\n",
    "x1"
   ]
  },
  {
   "cell_type": "code",
   "execution_count": 33,
   "id": "5769abc5",
   "metadata": {},
   "outputs": [],
   "source": [
    "x1_grid, x2_grid = np.meshgrid(x1, x2)"
   ]
  },
  {
   "cell_type": "code",
   "execution_count": 34,
   "id": "0137fa1f",
   "metadata": {},
   "outputs": [
    {
     "data": {
      "text/plain": [
       "array([[-10,  -9,  -8,  -7,  -6,  -5,  -4,  -3,  -2,  -1,   0,   1,   2,\n",
       "          3,   4,   5,   6,   7,   8,   9],\n",
       "       [-10,  -9,  -8,  -7,  -6,  -5,  -4,  -3,  -2,  -1,   0,   1,   2,\n",
       "          3,   4,   5,   6,   7,   8,   9],\n",
       "       [-10,  -9,  -8,  -7,  -6,  -5,  -4,  -3,  -2,  -1,   0,   1,   2,\n",
       "          3,   4,   5,   6,   7,   8,   9],\n",
       "       [-10,  -9,  -8,  -7,  -6,  -5,  -4,  -3,  -2,  -1,   0,   1,   2,\n",
       "          3,   4,   5,   6,   7,   8,   9],\n",
       "       [-10,  -9,  -8,  -7,  -6,  -5,  -4,  -3,  -2,  -1,   0,   1,   2,\n",
       "          3,   4,   5,   6,   7,   8,   9],\n",
       "       [-10,  -9,  -8,  -7,  -6,  -5,  -4,  -3,  -2,  -1,   0,   1,   2,\n",
       "          3,   4,   5,   6,   7,   8,   9],\n",
       "       [-10,  -9,  -8,  -7,  -6,  -5,  -4,  -3,  -2,  -1,   0,   1,   2,\n",
       "          3,   4,   5,   6,   7,   8,   9],\n",
       "       [-10,  -9,  -8,  -7,  -6,  -5,  -4,  -3,  -2,  -1,   0,   1,   2,\n",
       "          3,   4,   5,   6,   7,   8,   9],\n",
       "       [-10,  -9,  -8,  -7,  -6,  -5,  -4,  -3,  -2,  -1,   0,   1,   2,\n",
       "          3,   4,   5,   6,   7,   8,   9],\n",
       "       [-10,  -9,  -8,  -7,  -6,  -5,  -4,  -3,  -2,  -1,   0,   1,   2,\n",
       "          3,   4,   5,   6,   7,   8,   9],\n",
       "       [-10,  -9,  -8,  -7,  -6,  -5,  -4,  -3,  -2,  -1,   0,   1,   2,\n",
       "          3,   4,   5,   6,   7,   8,   9],\n",
       "       [-10,  -9,  -8,  -7,  -6,  -5,  -4,  -3,  -2,  -1,   0,   1,   2,\n",
       "          3,   4,   5,   6,   7,   8,   9],\n",
       "       [-10,  -9,  -8,  -7,  -6,  -5,  -4,  -3,  -2,  -1,   0,   1,   2,\n",
       "          3,   4,   5,   6,   7,   8,   9],\n",
       "       [-10,  -9,  -8,  -7,  -6,  -5,  -4,  -3,  -2,  -1,   0,   1,   2,\n",
       "          3,   4,   5,   6,   7,   8,   9],\n",
       "       [-10,  -9,  -8,  -7,  -6,  -5,  -4,  -3,  -2,  -1,   0,   1,   2,\n",
       "          3,   4,   5,   6,   7,   8,   9],\n",
       "       [-10,  -9,  -8,  -7,  -6,  -5,  -4,  -3,  -2,  -1,   0,   1,   2,\n",
       "          3,   4,   5,   6,   7,   8,   9],\n",
       "       [-10,  -9,  -8,  -7,  -6,  -5,  -4,  -3,  -2,  -1,   0,   1,   2,\n",
       "          3,   4,   5,   6,   7,   8,   9],\n",
       "       [-10,  -9,  -8,  -7,  -6,  -5,  -4,  -3,  -2,  -1,   0,   1,   2,\n",
       "          3,   4,   5,   6,   7,   8,   9],\n",
       "       [-10,  -9,  -8,  -7,  -6,  -5,  -4,  -3,  -2,  -1,   0,   1,   2,\n",
       "          3,   4,   5,   6,   7,   8,   9],\n",
       "       [-10,  -9,  -8,  -7,  -6,  -5,  -4,  -3,  -2,  -1,   0,   1,   2,\n",
       "          3,   4,   5,   6,   7,   8,   9]])"
      ]
     },
     "execution_count": 34,
     "metadata": {},
     "output_type": "execute_result"
    }
   ],
   "source": [
    "x1_grid"
   ]
  },
  {
   "cell_type": "code",
   "execution_count": 35,
   "id": "52206a35",
   "metadata": {},
   "outputs": [
    {
     "data": {
      "text/plain": [
       "array([[-10, -10, -10, -10, -10, -10, -10, -10, -10, -10, -10, -10, -10,\n",
       "        -10, -10, -10, -10, -10, -10, -10],\n",
       "       [ -9,  -9,  -9,  -9,  -9,  -9,  -9,  -9,  -9,  -9,  -9,  -9,  -9,\n",
       "         -9,  -9,  -9,  -9,  -9,  -9,  -9],\n",
       "       [ -8,  -8,  -8,  -8,  -8,  -8,  -8,  -8,  -8,  -8,  -8,  -8,  -8,\n",
       "         -8,  -8,  -8,  -8,  -8,  -8,  -8],\n",
       "       [ -7,  -7,  -7,  -7,  -7,  -7,  -7,  -7,  -7,  -7,  -7,  -7,  -7,\n",
       "         -7,  -7,  -7,  -7,  -7,  -7,  -7],\n",
       "       [ -6,  -6,  -6,  -6,  -6,  -6,  -6,  -6,  -6,  -6,  -6,  -6,  -6,\n",
       "         -6,  -6,  -6,  -6,  -6,  -6,  -6],\n",
       "       [ -5,  -5,  -5,  -5,  -5,  -5,  -5,  -5,  -5,  -5,  -5,  -5,  -5,\n",
       "         -5,  -5,  -5,  -5,  -5,  -5,  -5],\n",
       "       [ -4,  -4,  -4,  -4,  -4,  -4,  -4,  -4,  -4,  -4,  -4,  -4,  -4,\n",
       "         -4,  -4,  -4,  -4,  -4,  -4,  -4],\n",
       "       [ -3,  -3,  -3,  -3,  -3,  -3,  -3,  -3,  -3,  -3,  -3,  -3,  -3,\n",
       "         -3,  -3,  -3,  -3,  -3,  -3,  -3],\n",
       "       [ -2,  -2,  -2,  -2,  -2,  -2,  -2,  -2,  -2,  -2,  -2,  -2,  -2,\n",
       "         -2,  -2,  -2,  -2,  -2,  -2,  -2],\n",
       "       [ -1,  -1,  -1,  -1,  -1,  -1,  -1,  -1,  -1,  -1,  -1,  -1,  -1,\n",
       "         -1,  -1,  -1,  -1,  -1,  -1,  -1],\n",
       "       [  0,   0,   0,   0,   0,   0,   0,   0,   0,   0,   0,   0,   0,\n",
       "          0,   0,   0,   0,   0,   0,   0],\n",
       "       [  1,   1,   1,   1,   1,   1,   1,   1,   1,   1,   1,   1,   1,\n",
       "          1,   1,   1,   1,   1,   1,   1],\n",
       "       [  2,   2,   2,   2,   2,   2,   2,   2,   2,   2,   2,   2,   2,\n",
       "          2,   2,   2,   2,   2,   2,   2],\n",
       "       [  3,   3,   3,   3,   3,   3,   3,   3,   3,   3,   3,   3,   3,\n",
       "          3,   3,   3,   3,   3,   3,   3],\n",
       "       [  4,   4,   4,   4,   4,   4,   4,   4,   4,   4,   4,   4,   4,\n",
       "          4,   4,   4,   4,   4,   4,   4],\n",
       "       [  5,   5,   5,   5,   5,   5,   5,   5,   5,   5,   5,   5,   5,\n",
       "          5,   5,   5,   5,   5,   5,   5],\n",
       "       [  6,   6,   6,   6,   6,   6,   6,   6,   6,   6,   6,   6,   6,\n",
       "          6,   6,   6,   6,   6,   6,   6],\n",
       "       [  7,   7,   7,   7,   7,   7,   7,   7,   7,   7,   7,   7,   7,\n",
       "          7,   7,   7,   7,   7,   7,   7],\n",
       "       [  8,   8,   8,   8,   8,   8,   8,   8,   8,   8,   8,   8,   8,\n",
       "          8,   8,   8,   8,   8,   8,   8],\n",
       "       [  9,   9,   9,   9,   9,   9,   9,   9,   9,   9,   9,   9,   9,\n",
       "          9,   9,   9,   9,   9,   9,   9]])"
      ]
     },
     "execution_count": 35,
     "metadata": {},
     "output_type": "execute_result"
    }
   ],
   "source": [
    "x2_grid"
   ]
  },
  {
   "cell_type": "markdown",
   "id": "3180a8d8",
   "metadata": {},
   "source": [
    "On peut ensuite utiliser x1_grid et x2_grid pour effectuer nos calculs."
   ]
  },
  {
   "cell_type": "code",
   "execution_count": 36,
   "id": "3da6cd7b",
   "metadata": {},
   "outputs": [
    {
     "data": {
      "text/plain": [
       "array([[-4. , -3.3, -2.6, -1.9, -1.2, -0.5,  0.2,  0.9,  1.6,  2.3,  3. ,\n",
       "         3.7,  4.4,  5.1,  5.8,  6.5,  7.2,  7.9,  8.6,  9.3],\n",
       "       [-3.5, -2.8, -2.1, -1.4, -0.7,  0. ,  0.7,  1.4,  2.1,  2.8,  3.5,\n",
       "         4.2,  4.9,  5.6,  6.3,  7. ,  7.7,  8.4,  9.1,  9.8],\n",
       "       [-3. , -2.3, -1.6, -0.9, -0.2,  0.5,  1.2,  1.9,  2.6,  3.3,  4. ,\n",
       "         4.7,  5.4,  6.1,  6.8,  7.5,  8.2,  8.9,  9.6, 10.3],\n",
       "       [-2.5, -1.8, -1.1, -0.4,  0.3,  1. ,  1.7,  2.4,  3.1,  3.8,  4.5,\n",
       "         5.2,  5.9,  6.6,  7.3,  8. ,  8.7,  9.4, 10.1, 10.8],\n",
       "       [-2. , -1.3, -0.6,  0.1,  0.8,  1.5,  2.2,  2.9,  3.6,  4.3,  5. ,\n",
       "         5.7,  6.4,  7.1,  7.8,  8.5,  9.2,  9.9, 10.6, 11.3],\n",
       "       [-1.5, -0.8, -0.1,  0.6,  1.3,  2. ,  2.7,  3.4,  4.1,  4.8,  5.5,\n",
       "         6.2,  6.9,  7.6,  8.3,  9. ,  9.7, 10.4, 11.1, 11.8],\n",
       "       [-1. , -0.3,  0.4,  1.1,  1.8,  2.5,  3.2,  3.9,  4.6,  5.3,  6. ,\n",
       "         6.7,  7.4,  8.1,  8.8,  9.5, 10.2, 10.9, 11.6, 12.3],\n",
       "       [-0.5,  0.2,  0.9,  1.6,  2.3,  3. ,  3.7,  4.4,  5.1,  5.8,  6.5,\n",
       "         7.2,  7.9,  8.6,  9.3, 10. , 10.7, 11.4, 12.1, 12.8],\n",
       "       [ 0. ,  0.7,  1.4,  2.1,  2.8,  3.5,  4.2,  4.9,  5.6,  6.3,  7. ,\n",
       "         7.7,  8.4,  9.1,  9.8, 10.5, 11.2, 11.9, 12.6, 13.3],\n",
       "       [ 0.5,  1.2,  1.9,  2.6,  3.3,  4. ,  4.7,  5.4,  6.1,  6.8,  7.5,\n",
       "         8.2,  8.9,  9.6, 10.3, 11. , 11.7, 12.4, 13.1, 13.8],\n",
       "       [ 1. ,  1.7,  2.4,  3.1,  3.8,  4.5,  5.2,  5.9,  6.6,  7.3,  8. ,\n",
       "         8.7,  9.4, 10.1, 10.8, 11.5, 12.2, 12.9, 13.6, 14.3],\n",
       "       [ 1.5,  2.2,  2.9,  3.6,  4.3,  5. ,  5.7,  6.4,  7.1,  7.8,  8.5,\n",
       "         9.2,  9.9, 10.6, 11.3, 12. , 12.7, 13.4, 14.1, 14.8],\n",
       "       [ 2. ,  2.7,  3.4,  4.1,  4.8,  5.5,  6.2,  6.9,  7.6,  8.3,  9. ,\n",
       "         9.7, 10.4, 11.1, 11.8, 12.5, 13.2, 13.9, 14.6, 15.3],\n",
       "       [ 2.5,  3.2,  3.9,  4.6,  5.3,  6. ,  6.7,  7.4,  8.1,  8.8,  9.5,\n",
       "        10.2, 10.9, 11.6, 12.3, 13. , 13.7, 14.4, 15.1, 15.8],\n",
       "       [ 3. ,  3.7,  4.4,  5.1,  5.8,  6.5,  7.2,  7.9,  8.6,  9.3, 10. ,\n",
       "        10.7, 11.4, 12.1, 12.8, 13.5, 14.2, 14.9, 15.6, 16.3],\n",
       "       [ 3.5,  4.2,  4.9,  5.6,  6.3,  7. ,  7.7,  8.4,  9.1,  9.8, 10.5,\n",
       "        11.2, 11.9, 12.6, 13.3, 14. , 14.7, 15.4, 16.1, 16.8],\n",
       "       [ 4. ,  4.7,  5.4,  6.1,  6.8,  7.5,  8.2,  8.9,  9.6, 10.3, 11. ,\n",
       "        11.7, 12.4, 13.1, 13.8, 14.5, 15.2, 15.9, 16.6, 17.3],\n",
       "       [ 4.5,  5.2,  5.9,  6.6,  7.3,  8. ,  8.7,  9.4, 10.1, 10.8, 11.5,\n",
       "        12.2, 12.9, 13.6, 14.3, 15. , 15.7, 16.4, 17.1, 17.8],\n",
       "       [ 5. ,  5.7,  6.4,  7.1,  7.8,  8.5,  9.2,  9.9, 10.6, 11.3, 12. ,\n",
       "        12.7, 13.4, 14.1, 14.8, 15.5, 16.2, 16.9, 17.6, 18.3],\n",
       "       [ 5.5,  6.2,  6.9,  7.6,  8.3,  9. ,  9.7, 10.4, 11.1, 11.8, 12.5,\n",
       "        13.2, 13.9, 14.6, 15.3, 16. , 16.7, 17.4, 18.1, 18.8]])"
      ]
     },
     "execution_count": 36,
     "metadata": {},
     "output_type": "execute_result"
    }
   ],
   "source": [
    "w1 = 0.7\n",
    "w2 = 0.5\n",
    "b = 8\n",
    "\n",
    "f = w1 * x1_grid + w2 * x2_grid + b\n",
    "\n",
    "f"
   ]
  },
  {
   "cell_type": "code",
   "execution_count": 37,
   "id": "44672217",
   "metadata": {},
   "outputs": [],
   "source": [
    "# Plotting\n",
    "fig = plt.figure(figsize=(10, 8))\n",
    "ax = fig.add_subplot(111, projection='3d')\n",
    "\n",
    "# plot the plane\n",
    "ax.plot_surface(x1_grid, x2_grid, f, alpha=0.6, color='Blue', edgecolor='none')\n",
    "\n",
    "# Set axis limits\n",
    "# ax.set_xlim(-10, 10)\n",
    "# ax.set_ylim(-10, 10)\n",
    "# ax.set_zlim(-10, 10)\n",
    "\n",
    "# Draw axes through origin\n",
    "ax.plot([-10, 10], [0, 0], [0, 0], color='black')  # x-axis\n",
    "ax.plot([0, 0], [-10, 10], [0, 0], color='black')  # y-axis\n",
    "ax.plot([0, 0], [0, 0], [-10, 10], color='black')  # z-axis\n",
    "\n",
    "plt.tight_layout()\n",
    "plt.show()\n"
   ]
  },
  {
   "cell_type": "markdown",
   "id": "280d84e7",
   "metadata": {},
   "source": [
    "# Fonction `MSE`\n"
   ]
  },
  {
   "cell_type": "code",
   "execution_count": 23,
   "id": "153d99ad",
   "metadata": {},
   "outputs": [
    {
     "data": {
      "text/plain": [
       "<matplotlib.collections.PathCollection at 0x2562cdfb4d0>"
      ]
     },
     "execution_count": 23,
     "metadata": {},
     "output_type": "execute_result"
    }
   ],
   "source": [
    "np.random.seed(0)\n",
    "\n",
    "X = np.linspace(0, 10, 20)\n",
    "\n",
    "true_w, true_b = 2, 1\n",
    "\n",
    "y = true_w * X + true_b + np.random.normal(scale=2, size=X.shape)\n",
    "\n",
    "plt.scatter(X, y, s=20)"
   ]
  },
  {
   "cell_type": "code",
   "execution_count": 24,
   "id": "c58ff108",
   "metadata": {},
   "outputs": [],
   "source": [
    "w, b = 0.7, 5\n",
    "\n",
    "y_pred = w * X + b # modele linéaire"
   ]
  },
  {
   "cell_type": "code",
   "execution_count": 25,
   "id": "908e5a51",
   "metadata": {},
   "outputs": [
    {
     "data": {
      "text/plain": [
       "[<matplotlib.lines.Line2D at 0x2562cdf9d10>]"
      ]
     },
     "execution_count": 25,
     "metadata": {},
     "output_type": "execute_result"
    }
   ],
   "source": [
    "plt.scatter(X, y, color=\"blue\", s=50)\n",
    "\n",
    "plt.plot(X, y_pred, color=\"green\")"
   ]
  },
  {
   "cell_type": "markdown",
   "id": "7ec8ed4c",
   "metadata": {},
   "source": [
    "### calcul de la `MSE`\n",
    "\n",
    "$$MSE(w, b) = \\frac{1}{m} \\sum_i (y^{(i)} - w \\times {x}^{(i)} + b)^2$$"
   ]
  },
  {
   "cell_type": "code",
   "execution_count": 26,
   "id": "79306f8c",
   "metadata": {},
   "outputs": [
    {
     "data": {
      "text/plain": [
       "np.float64(26.250232788045167)"
      ]
     },
     "execution_count": 26,
     "metadata": {},
     "output_type": "execute_result"
    }
   ],
   "source": [
    "mse = 1 / len(y) * np.sum((y - y_pred)**2)\n",
    "mse"
   ]
  },
  {
   "cell_type": "code",
   "execution_count": 27,
   "id": "5d6618ab",
   "metadata": {},
   "outputs": [],
   "source": [
    "plt.scatter(X, y, color=\"blue\")\n",
    "\n",
    "plt.plot(X, y_pred, color=\"green\")\n",
    "\n",
    "for xi, yi, ypi in zip(X, y, y_pred):\n",
    "    plt.plot([xi, xi], [yi, ypi], 'r--')  # ligne pointillée rouge\n",
    "\n",
    "plt.show()"
   ]
  },
  {
   "cell_type": "markdown",
   "id": "c31de54e",
   "metadata": {},
   "source": [
    "### Visualisation de la `MSE` avec Meshgrid"
   ]
  },
  {
   "cell_type": "code",
   "execution_count": 28,
   "id": "f6f5956c",
   "metadata": {},
   "outputs": [],
   "source": [
    "W_vals = np.linspace(0, 3, 50)\n",
    "B_vals = np.linspace(-1, 3, 50)\n",
    "\n",
    "W, B = np.meshgrid(W_vals, B_vals)"
   ]
  },
  {
   "cell_type": "code",
   "execution_count": 29,
   "id": "0b12359c",
   "metadata": {},
   "outputs": [],
   "source": [
    "MSE = np.zeros_like(W)\n",
    "\n",
    "for i in range(W.shape[0]):\n",
    "    for j in range(W.shape[1]):\n",
    "        y_hat = W[i, j] * X + B[i, j]\n",
    "        MSE[i, j] = np.mean((y - y_hat) ** 2)\n",
    "\n",
    "\n",
    "fig = plt.figure(figsize=(12, 8))\n",
    "ax = fig.add_subplot(111, projection='3d')\n",
    "\n",
    "ax.plot_surface(W, B, MSE, cmap='viridis', edgecolor='none')\n",
    "\n",
    "# ax.set_xlabel('w')\n",
    "# ax.set_ylabel('b')\n",
    "# ax.set_zlabel('MSE')\n",
    "# ax.set_title(\"Surface de l'erreur quadratique moyenne (MSE)\")\n",
    "plt.show()"
   ]
  },
  {
   "cell_type": "code",
   "execution_count": 30,
   "id": "5aa1b717",
   "metadata": {},
   "outputs": [
    {
     "data": {
      "text/plain": [
       "<matplotlib.contour.QuadContourSet at 0x25631344e10>"
      ]
     },
     "execution_count": 30,
     "metadata": {},
     "output_type": "execute_result"
    }
   ],
   "source": [
    "# Pour voir cette fonction en vue du dessus :\n",
    "plt.contourf(W, B, MSE)"
   ]
  }
 ],
 "metadata": {
  "kernelspec": {
   "display_name": "ML_PRO",
   "language": "python",
   "name": "python3"
  },
  "language_info": {
   "codemirror_mode": {
    "name": "ipython",
    "version": 3
   },
   "file_extension": ".py",
   "mimetype": "text/x-python",
   "name": "python",
   "nbconvert_exporter": "python",
   "pygments_lexer": "ipython3",
   "version": "3.13.2"
  }
 },
 "nbformat": 4,
 "nbformat_minor": 5
}
