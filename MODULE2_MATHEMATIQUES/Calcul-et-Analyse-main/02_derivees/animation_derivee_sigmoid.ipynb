{
 "cells": [
  {
   "cell_type": "markdown",
   "id": "57cae16c",
   "metadata": {},
   "source": [
    "# Visualisationde de la dérivée de la sigmoid"
   ]
  },
  {
   "cell_type": "code",
   "execution_count": null,
   "id": "a8a92773",
   "metadata": {},
   "outputs": [],
   "source": [
    "import matplotlib\n",
    "import numpy as np\n",
    "import matplotlib.pyplot as plt\n",
    "from matplotlib.widgets import Slider\n",
    "\n",
    "matplotlib.use('TkAgg')\n"
   ]
  },
  {
   "cell_type": "code",
   "execution_count": null,
   "id": "67181c13",
   "metadata": {},
   "outputs": [],
   "source": [
    "\n",
    "# Définition de la sigmoïde et sa dérivée analytique\n",
    "def sigmoid(x):\n",
    "    return 1 / (1 + np.exp(-x))\n",
    "\n",
    "def sig_deriv(x):\n",
    "    s = sigmoid(x)\n",
    "    return s * (1 - s)\n",
    "\n",
    "x = np.linspace(-6, 6, 25)\n",
    "y = sigmoid(x)\n",
    "dy = sig_deriv(x)\n",
    "\n",
    "# Valeur initiale du slider\n",
    "t0 = 0\n",
    "\n",
    "# Initialisation de la figure et de la tangente\n",
    "fig, ax = plt.subplots(figsize=(10, 6))\n",
    "plt.subplots_adjust(bottom=0.25)  # Place pour slider\n",
    "\n",
    "sig_line, = ax.plot(x, y, label='Sigmoïde', color='blue')\n",
    "deriv_line, = ax.plot(x, dy, label='Dérivée', color='red', linestyle='--')\n",
    "\n",
    "# Tangente initiale\n",
    "yt_0 = sigmoid(t0)\n",
    "slope_0 = sig_deriv(t0)\n",
    "x_tangent = np.linspace(t0 - 2, t0 + 2, 100)\n",
    "y_tangent = yt_0 + slope_0 * (x_tangent - t0)\n",
    "tangent_line, = ax.plot(x_tangent, y_tangent, label=f\"Tangente en x = {t0:.2f}\", color='green')\n",
    "\n",
    "ax.set_title(\"Fonction sigmoïde, sa dérivée et tangente\")\n",
    "ax.set_xlabel(\"x\")\n",
    "ax.set_ylabel(\"y\")\n",
    "ax.grid(True)\n",
    "ax.axhline(0, color='black', linewidth=0.5)\n",
    "ax.axvline(0, color='black', linewidth=0.5)\n",
    "ax.set_xlim(-6, 6)\n",
    "ax.set_ylim(-0.1, 1.1)\n",
    "ax.legend()\n",
    "\n",
    "# Slider\n",
    "slider_ax = plt.axes([0.15, 0.1, 0.7, 0.03])\n",
    "t_slider = Slider(slider_ax, 'x', -6, 6, valinit=t0, valstep=0.01)\n",
    "\n",
    "# Fonction de mise à jour\n",
    "def update(val):\n",
    "    t = t_slider.val\n",
    "    yt = sigmoid(t)\n",
    "    slope = sig_deriv(t)\n",
    "    x_tangent = np.linspace(t - 2, t + 2, 100)\n",
    "    y_tangent = yt + slope * (x_tangent - t)\n",
    "    tangent_line.set_data(x_tangent, y_tangent)\n",
    "    tangent_line.set_label(f\"Tangente en x = {t:.2f}\")\n",
    "    ax.legend()\n",
    "    fig.canvas.draw_idle()\n",
    "\n",
    "t_slider.on_changed(update)\n",
    "\n",
    "plt.show()\n"
   ]
  }
 ],
 "metadata": {
  "language_info": {
   "name": "python"
  }
 },
 "nbformat": 4,
 "nbformat_minor": 5
}
