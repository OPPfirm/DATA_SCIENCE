{
 "cells": [
  {
   "cell_type": "markdown",
   "metadata": {},
   "source": [
    "# Vecteurs"
   ]
  },
  {
   "cell_type": "code",
   "execution_count": 2,
   "metadata": {},
   "outputs": [],
   "source": [
    "from manim import *"
   ]
  },
  {
   "cell_type": "markdown",
   "metadata": {},
   "source": [
    "## Additions de vecteurs"
   ]
  },
  {
   "cell_type": "code",
   "execution_count": 3,
   "metadata": {},
   "outputs": [
    {
     "data": {
      "text/html": [
       "<pre style=\"white-space:pre;overflow-x:auto;line-height:normal;font-family:Menlo,'DejaVu Sans Mono',consolas,'Courier New',monospace\">Manim Community <span style=\"color: #008000; text-decoration-color: #008000\">v0.18.1</span>\n",
       "\n",
       "</pre>\n"
      ],
      "text/plain": [
       "Manim Community \u001b[32mv0.\u001b[0m\u001b[32m18.1\u001b[0m\n",
       "\n"
      ]
     },
     "metadata": {},
     "output_type": "display_data"
    },
    {
     "name": "stderr",
     "output_type": "stream",
     "text": [
      "                                                                                                                               \r"
     ]
    },
    {
     "data": {
      "text/html": [
       "<video src=\"media/jupyter/AdditionVecteurs@2024-11-22@15-43-09.mp4\" controls autoplay loop style=\"max-width: 60%;\"  >\n",
       "      Your browser does not support the <code>video</code> element.\n",
       "    </video>"
      ],
      "text/plain": [
       "<IPython.core.display.Video object>"
      ]
     },
     "metadata": {},
     "output_type": "display_data"
    }
   ],
   "source": [
    "%%manim -qm -v WARNING AdditionVecteurs\n",
    "\n",
    "class AdditionVecteurs(Scene):\n",
    "    def construct(self):\n",
    "        # Définition des vecteurs\n",
    "        vecteur_u = np.array([2, 1, 0])  # \\vec{u} = (2, 1)\n",
    "        vecteur_v = np.array([1, 2, 0])  # \\vec{v} = (1, 2)\n",
    "        vecteur_somme = vecteur_u + vecteur_v  # \\vec{u} + \\vec{v} = (3, 3)\n",
    "\n",
    "        # Création des flèches pour les vecteurs\n",
    "        flèche_u = Arrow(ORIGIN, vecteur_u, buff=0, color=BLUE)\n",
    "        flèche_v = Arrow(flèche_u.get_end(), vecteur_somme, buff=0, color=GREEN)\n",
    "        flèche_somme = Arrow(ORIGIN, vecteur_somme, buff=0, color=RED)\n",
    "\n",
    "        # Ajout des vecteurs au graphique\n",
    "        self.play(Create(flèche_u), Write(MathTex(\"\\\\vec{u} (2, 1)\").next_to(flèche_u.get_center(), DOWN+RIGHT)))\n",
    "        self.wait(1)\n",
    "        self.play(Create(flèche_v), Write(MathTex(\"\\\\vec{v} (1, 2)\").next_to(flèche_v.get_center(), RIGHT)))\n",
    "        self.wait(1)\n",
    "        self.play(Create(flèche_somme), Write(MathTex(\"\\\\vec{u} + \\\\vec{v} (3, 3)\").next_to(flèche_somme.get_center(), LEFT*2)))\n",
    "        self.wait(2)\n",
    "        \n",
    "\n",
    "        # Optionnel : Animation du calcul de la somme composante par composante\n",
    "        calcul = MathTex(\"\\\\vec{u} + \\\\vec{v} = (2, 1) + (1, 2) = (3, 3)\").to_edge(DOWN)\n",
    "        self.play(Write(calcul))\n",
    "        self.wait(3)"
   ]
  },
  {
   "cell_type": "markdown",
   "metadata": {},
   "source": [
    "## Multiplication d'un vecteur par un scalaire"
   ]
  },
  {
   "cell_type": "code",
   "execution_count": 22,
   "metadata": {},
   "outputs": [
    {
     "data": {
      "text/html": [
       "<pre style=\"white-space:pre;overflow-x:auto;line-height:normal;font-family:Menlo,'DejaVu Sans Mono',consolas,'Courier New',monospace\">Manim Community <span style=\"color: #008000; text-decoration-color: #008000\">v0.18.1</span>\n",
       "\n",
       "</pre>\n"
      ],
      "text/plain": [
       "Manim Community \u001b[32mv0.\u001b[0m\u001b[32m18.1\u001b[0m\n",
       "\n"
      ]
     },
     "metadata": {},
     "output_type": "display_data"
    },
    {
     "name": "stderr",
     "output_type": "stream",
     "text": [
      "                                                                                                                          \r"
     ]
    },
    {
     "data": {
      "text/html": [
       "<video src=\"media/jupyter/MultiplicationVecteurScalaire@2024-11-22@15-23-25.mp4\" controls autoplay loop style=\"max-width: 60%;\"  >\n",
       "      Your browser does not support the <code>video</code> element.\n",
       "    </video>"
      ],
      "text/plain": [
       "<IPython.core.display.Video object>"
      ]
     },
     "metadata": {},
     "output_type": "display_data"
    }
   ],
   "source": [
    "%%manim -qm -v WARNING MultiplicationVecteurScalaire\n",
    "\n",
    "class MultiplicationVecteurScalaire(Scene):\n",
    "    def construct(self):\n",
    "        # Définition du scalaire et du vecteur\n",
    "        scalaire = 3\n",
    "        vecteur_u = np.array([1, 0.6, 0])\n",
    "        vecteur_resultat = scalaire * vecteur_u\n",
    "\n",
    "        # Création des flèches pour les vecteurs\n",
    "        flèche_u = Arrow(ORIGIN, vecteur_u, buff=0, color=BLUE)\n",
    "        flèche_resultat = Arrow(ORIGIN, vecteur_resultat, buff=0, color=RED)\n",
    "\n",
    "        # Étiquettes des vecteurs\n",
    "        étiquette_u = MathTex(\"\\\\vec{u} (1, 0.6)\").next_to(flèche_u.get_center(), 2*RIGHT+DOWN)\n",
    "        étiquette_resultat = MathTex(\"3\\\\vec{u} (3, 1.8)\").next_to(flèche_resultat.get_end(), 2*RIGHT+DOWN)\n",
    "\n",
    "        # Affichage du vecteur initial\n",
    "        self.play(Create(flèche_u), Write(étiquette_u))\n",
    "        self.wait(1)\n",
    "\n",
    "        # Affichage du vecteur résultant\n",
    "        self.play(Create(flèche_resultat), Write(étiquette_resultat))\n",
    "        self.wait(1)\n",
    "\n",
    "        # Affichage du scalaire\n",
    "        texte_scalaire = MathTex(\"c = 3\").to_edge(UL)\n",
    "        self.play(Write(texte_scalaire))\n",
    "        self.wait(2)\n",
    "\n",
    "        # Animation du calcul composante par composante\n",
    "        calcul = MathTex(\"3\\\\vec{u} = 3 \\\\times (1, 0.6) = (3, 1.8)\").to_edge(DOWN)\n",
    "        self.play(Write(calcul))\n",
    "        self.wait(3)"
   ]
  },
  {
   "cell_type": "markdown",
   "metadata": {},
   "source": [
    "## Norme d'un vecteur"
   ]
  },
  {
   "cell_type": "code",
   "execution_count": 32,
   "metadata": {},
   "outputs": [
    {
     "data": {
      "text/html": [
       "<pre style=\"white-space:pre;overflow-x:auto;line-height:normal;font-family:Menlo,'DejaVu Sans Mono',consolas,'Courier New',monospace\">Manim Community <span style=\"color: #008000; text-decoration-color: #008000\">v0.18.1</span>\n",
       "\n",
       "</pre>\n"
      ],
      "text/plain": [
       "Manim Community \u001b[32mv0.\u001b[0m\u001b[32m18.1\u001b[0m\n",
       "\n"
      ]
     },
     "metadata": {},
     "output_type": "display_data"
    },
    {
     "name": "stderr",
     "output_type": "stream",
     "text": [
      "                                                                                                                                            \r"
     ]
    },
    {
     "data": {
      "text/html": [
       "<video src=\"media/jupyter/NormeVecteur@2024-11-22@15-36-00.mp4\" controls autoplay loop style=\"max-width: 60%;\"  >\n",
       "      Your browser does not support the <code>video</code> element.\n",
       "    </video>"
      ],
      "text/plain": [
       "<IPython.core.display.Video object>"
      ]
     },
     "metadata": {},
     "output_type": "display_data"
    }
   ],
   "source": [
    "%%manim -qm -v WARNING NormeVecteur\n",
    "\n",
    "class NormeVecteur(Scene):\n",
    "    def construct(self):\n",
    "        # Création du quadrillage\n",
    "        ax = NumberPlane(\n",
    "            y_range=[-2, 6, 1],\n",
    "            x_range=[-1, 6, 1],\n",
    "            y_length=8,\n",
    "            x_length=8,\n",
    "            background_line_style={\"stroke_opacity\": 0.4}\n",
    "        )\n",
    "        self.play(Create(ax))\n",
    "\n",
    "        # Définition du vecteur\n",
    "        vecteur = np.array([3, 4, 0])\n",
    "        flèche = Arrow(ax.c2p(0, 0, 0), ax.c2p(vecteur[0], vecteur[1], 0), buff=0, color=BLUE)\n",
    "        flèche_label = MathTex(\"\\\\vec{v}\").next_to(flèche.get_end(), UP)\n",
    "\n",
    "        # Affichage du vecteur\n",
    "        self.play(Create(flèche), Write(flèche_label))\n",
    "        self.wait(1)\n",
    "\n",
    "        # Affichage des coordonnées\n",
    "        coord_x = MathTex(\"3\").next_to(ax.c2p(3, 0, 0), DOWN)\n",
    "        coord_y = MathTex(\"4\").next_to(ax.c2p(0, 4, 0), LEFT)\n",
    "        self.play(Write(coord_x), Write(coord_y))\n",
    "        self.wait(1)\n",
    "\n",
    "        # Création des lignes pour démontrer la norme\n",
    "        ligne_horiz = Line(ax.c2p(0, 4, 0), ax.c2p(3, 4, 0), color=YELLOW)\n",
    "        ligne_vert = Line(ax.c2p(3, 0, 0), ax.c2p(3, 4, 0), color=GREEN)\n",
    "\n",
    "        self.play(Create(ligne_horiz), Create(ligne_vert))\n",
    "        self.wait(1)\n",
    "\n",
    "        # Affichage de la formule de la norme\n",
    "        formule = MathTex(\n",
    "            \"\\\\| \\\\vec{v} \\\\| = \\\\sqrt{3^2 + 4^2} = \\\\sqrt{9 + 16} = \\\\sqrt{25} = 5\"\n",
    "        ).to_edge(DOWN)\n",
    "        self.play(Write(formule))\n",
    "        self.wait(5)"
   ]
  },
  {
   "cell_type": "code",
   "execution_count": null,
   "metadata": {},
   "outputs": [],
   "source": []
  }
 ],
 "metadata": {
  "kernelspec": {
   "display_name": "env_manim",
   "language": "python",
   "name": "python3"
  },
  "language_info": {
   "codemirror_mode": {
    "name": "ipython",
    "version": 3
   },
   "file_extension": ".py",
   "mimetype": "text/x-python",
   "name": "python",
   "nbconvert_exporter": "python",
   "pygments_lexer": "ipython3",
   "version": "3.11.8"
  }
 },
 "nbformat": 4,
 "nbformat_minor": 2
}
