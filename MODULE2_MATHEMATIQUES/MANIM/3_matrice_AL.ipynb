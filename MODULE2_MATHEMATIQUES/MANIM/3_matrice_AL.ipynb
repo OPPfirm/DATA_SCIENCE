{
 "cells": [
  {
   "cell_type": "markdown",
   "metadata": {},
   "source": [
    "# Matrice d'une application linéaire"
   ]
  },
  {
   "cell_type": "code",
   "execution_count": 2,
   "metadata": {},
   "outputs": [],
   "source": [
    "from manim import *\n",
    "import numpy as np"
   ]
  },
  {
   "cell_type": "markdown",
   "metadata": {},
   "source": [
    "## Modification des vecteurs de la base avec une matrice quelconque"
   ]
  },
  {
   "cell_type": "code",
   "execution_count": 3,
   "metadata": {},
   "outputs": [
    {
     "data": {
      "text/html": [
       "<pre style=\"white-space:pre;overflow-x:auto;line-height:normal;font-family:Menlo,'DejaVu Sans Mono',consolas,'Courier New',monospace\">Manim Community <span style=\"color: #008000; text-decoration-color: #008000\">v0.18.1</span>\n",
       "\n",
       "</pre>\n"
      ],
      "text/plain": [
       "Manim Community \u001b[32mv0.\u001b[0m\u001b[32m18.1\u001b[0m\n",
       "\n"
      ]
     },
     "metadata": {},
     "output_type": "display_data"
    },
    {
     "name": "stderr",
     "output_type": "stream",
     "text": [
      "                                                                                        \r"
     ]
    },
    {
     "data": {
      "text/html": [
       "<video src=\"media/jupyter/TransformationArbitraryMatrix@2024-12-06@11-41-14.mp4\" controls autoplay loop style=\"max-width: 60%;\"  >\n",
       "      Your browser does not support the <code>video</code> element.\n",
       "    </video>"
      ],
      "text/plain": [
       "<IPython.core.display.Video object>"
      ]
     },
     "metadata": {},
     "output_type": "display_data"
    }
   ],
   "source": [
    "%%manim -qm -v WARNING TransformationArbitraryMatrix\n",
    "\n",
    "class TransformationArbitraryMatrix(Scene):\n",
    "    def construct(self):\n",
    "        # Création du quadrillage\n",
    "        ax = NumberPlane(\n",
    "            y_range=[-2, 6, 1],\n",
    "            x_range=[-1, 6, 1],\n",
    "            y_length=8,\n",
    "            x_length=8,\n",
    "            background_line_style={\"stroke_opacity\": 0.4}\n",
    "        )\n",
    "        self.play(Create(ax))\n",
    "\n",
    "        # Définition des vecteurs de base\n",
    "        i_vector = Arrow(ax.c2p(0, 0, 0), ax.c2p(1, 0, 0), buff=0, color=RED)\n",
    "        j_vector = Arrow(ax.c2p(0, 0, 0), ax.c2p(0, 1, 0), buff=0, color=GREEN)\n",
    "\n",
    "        # Étiquettes des vecteurs de base\n",
    "        label_i = MathTex(\"\\\\vec{e}_1\").next_to(i_vector.get_end(), DOWN)\n",
    "        label_j = MathTex(\"\\\\vec{e}_2\").next_to(j_vector.get_end(), LEFT)\n",
    "\n",
    "        self.play(Create(i_vector), Write(label_i))\n",
    "        self.play(Create(j_vector), Write(label_j))\n",
    "        self.wait(1)\n",
    "\n",
    "        # Définition de la matrice arbitraire\n",
    "        matrix = [[2, 1], [1, 3]]  # Exemple de matrice quelconque\n",
    "        mat = Matrix(matrix).scale(0.7).to_corner(UL)\n",
    "        self.play(Write(mat))\n",
    "\n",
    "        # Vecteurs transformés\n",
    "        transformed_i = Arrow(ax.c2p(0, 0, 0), ax.c2p(matrix[0][0], matrix[1][0], 0), buff=0, color=RED)\n",
    "        transformed_j = Arrow(ax.c2p(0, 0, 0), ax.c2p(matrix[0][1], matrix[1][1], 0), buff=0, color=GREEN)\n",
    "\n",
    "        # Transformation des vecteurs\n",
    "        self.play(\n",
    "            Transform(i_vector, transformed_i),\n",
    "            Transform(j_vector, transformed_j),\n",
    "            Transform(label_i, MathTex(\"\\\\vec{e}_1'\").next_to(transformed_i.get_end(), RIGHT)),\n",
    "            Transform(label_j, MathTex(\"\\\\vec{e}_2'\").next_to(transformed_j.get_end(), UP))\n",
    "        )\n",
    "        self.wait(10)"
   ]
  },
  {
   "cell_type": "markdown",
   "metadata": {},
   "source": [
    "## Modification des vecteurs de la base avec une matrice diagonale"
   ]
  },
  {
   "cell_type": "code",
   "execution_count": 4,
   "metadata": {},
   "outputs": [
    {
     "data": {
      "text/html": [
       "<pre style=\"white-space:pre;overflow-x:auto;line-height:normal;font-family:Menlo,'DejaVu Sans Mono',consolas,'Courier New',monospace\">Manim Community <span style=\"color: #008000; text-decoration-color: #008000\">v0.18.1</span>\n",
       "\n",
       "</pre>\n"
      ],
      "text/plain": [
       "Manim Community \u001b[32mv0.\u001b[0m\u001b[32m18.1\u001b[0m\n",
       "\n"
      ]
     },
     "metadata": {},
     "output_type": "display_data"
    },
    {
     "name": "stderr",
     "output_type": "stream",
     "text": [
      "                                                                                        \r"
     ]
    },
    {
     "data": {
      "text/html": [
       "<video src=\"media/jupyter/TransformationDiagonalMatrix@2024-12-06@11-41-16.mp4\" controls autoplay loop style=\"max-width: 60%;\"  >\n",
       "      Your browser does not support the <code>video</code> element.\n",
       "    </video>"
      ],
      "text/plain": [
       "<IPython.core.display.Video object>"
      ]
     },
     "metadata": {},
     "output_type": "display_data"
    }
   ],
   "source": [
    "%%manim -qm -v WARNING TransformationDiagonalMatrix\n",
    "\n",
    "class TransformationDiagonalMatrix(Scene):\n",
    "    def construct(self):\n",
    "        # Création du quadrillage\n",
    "        ax = NumberPlane(\n",
    "            y_range=[-2, 6, 1],\n",
    "            x_range=[-1, 6, 1],\n",
    "            y_length=8,\n",
    "            x_length=8,\n",
    "            background_line_style={\"stroke_opacity\": 0.4}\n",
    "        )\n",
    "        self.play(Create(ax))\n",
    "\n",
    "        # Définition des vecteurs de base\n",
    "        i_vector = Arrow(ax.c2p(0, 0, 0), ax.c2p(1, 0, 0), buff=0, color=RED)\n",
    "        j_vector = Arrow(ax.c2p(0, 0, 0), ax.c2p(0, 1, 0), buff=0, color=GREEN)\n",
    "\n",
    "        # Étiquettes des vecteurs de base\n",
    "        label_i = MathTex(\"\\\\vec{e}_1\").next_to(i_vector.get_end(), DOWN)\n",
    "        label_j = MathTex(\"\\\\vec{e}_2\").next_to(j_vector.get_end(), LEFT)\n",
    "\n",
    "        self.play(Create(i_vector), Write(label_i))\n",
    "        self.play(Create(j_vector), Write(label_j))\n",
    "        self.wait(1)\n",
    "\n",
    "        # Définition de la matrice diagonale\n",
    "        diagonal_matrix = [[2, 0], [0, 3]]  # Exemple de matrice diagonale\n",
    "        mat_diag = Matrix(diagonal_matrix).scale(0.7).to_corner(UL)\n",
    "        self.play(Write(mat_diag))\n",
    "\n",
    "        # Vecteurs transformés\n",
    "        transformed_i = Arrow(ax.c2p(0, 0, 0), ax.c2p(diagonal_matrix[0][0], diagonal_matrix[1][0], 0), buff=0, color=RED)\n",
    "        transformed_j = Arrow(ax.c2p(0, 0, 0), ax.c2p(diagonal_matrix[0][1], diagonal_matrix[1][1], 0), buff=0, color=GREEN)\n",
    "\n",
    "        # Transformation des vecteurs\n",
    "        self.play(\n",
    "            Transform(i_vector, transformed_i),\n",
    "            Transform(j_vector, transformed_j),\n",
    "            Transform(label_i, MathTex(\"2\\\\vec{e}_1\").next_to(transformed_i.get_end(), DOWN)),\n",
    "            Transform(label_j, MathTex(\"3\\\\vec{e}_2\").next_to(transformed_j.get_end(), LEFT))\n",
    "        )\n",
    "        self.wait(10)"
   ]
  },
  {
   "cell_type": "markdown",
   "metadata": {},
   "source": [
    "## Modification des vecteurs de la base avec une matrice orthogonale (rotation)"
   ]
  },
  {
   "cell_type": "code",
   "execution_count": 8,
   "metadata": {},
   "outputs": [
    {
     "data": {
      "text/html": [
       "<pre style=\"white-space:pre;overflow-x:auto;line-height:normal;font-family:Menlo,'DejaVu Sans Mono',consolas,'Courier New',monospace\">Manim Community <span style=\"color: #008000; text-decoration-color: #008000\">v0.18.1</span>\n",
       "\n",
       "</pre>\n"
      ],
      "text/plain": [
       "Manim Community \u001b[32mv0.\u001b[0m\u001b[32m18.1\u001b[0m\n",
       "\n"
      ]
     },
     "metadata": {},
     "output_type": "display_data"
    },
    {
     "name": "stderr",
     "output_type": "stream",
     "text": [
      "                                                                                        \r"
     ]
    },
    {
     "data": {
      "text/html": [
       "<video src=\"media/jupyter/TransformationOrthogonalMatrix@2024-12-06@11-42-51.mp4\" controls autoplay loop style=\"max-width: 60%;\"  >\n",
       "      Your browser does not support the <code>video</code> element.\n",
       "    </video>"
      ],
      "text/plain": [
       "<IPython.core.display.Video object>"
      ]
     },
     "metadata": {},
     "output_type": "display_data"
    }
   ],
   "source": [
    "%%manim -qm -v WARNING TransformationOrthogonalMatrix\n",
    "\n",
    "class TransformationOrthogonalMatrix(Scene):\n",
    "    def construct(self):\n",
    "        # Création du quadrillage\n",
    "        ax = NumberPlane(\n",
    "            y_range=[-5, 5, 1],\n",
    "            x_range=[-5, 5, 1],\n",
    "            y_length=8,\n",
    "            x_length=8,\n",
    "            background_line_style={\"stroke_opacity\": 0.4}\n",
    "        )\n",
    "        self.play(Create(ax))\n",
    "        \n",
    "        # Définition des vecteurs de base\n",
    "        i_vector = Arrow(ax.c2p(0, 0, 0), ax.c2p(3, 0, 0), buff=0, color=RED)\n",
    "        j_vector = Arrow(ax.c2p(0, 0, 0), ax.c2p(0, 3, 0), buff=0, color=GREEN)\n",
    "        \n",
    "        # Étiquettes des vecteurs de base\n",
    "        label_i = MathTex(\"\\\\vec{e}_1\").next_to(i_vector.get_end(), DOWN)\n",
    "        label_j = MathTex(\"\\\\vec{e}_2\").next_to(j_vector.get_end(), LEFT)\n",
    "        \n",
    "        self.play(Create(i_vector), Write(label_i))\n",
    "        self.play(Create(j_vector), Write(label_j))\n",
    "        self.wait(1)\n",
    "        \n",
    "        # Définition de la matrice de rotation (45 degrés)\n",
    "        angle = 90 * DEGREES\n",
    "        rotation_matrix = [[np.cos(angle), -np.sin(angle)],\n",
    "                           [np.sin(angle),  np.cos(angle)]]\n",
    "        \n",
    "        # Affichage de la matrice de rotation\n",
    "        mat_rotation = Matrix([\n",
    "            [f\"{np.cos(angle):.2f}\", f\"{-np.sin(angle):.2f}\"],\n",
    "            [f\"{np.sin(angle):.2f}\", f\"{np.cos(angle):.2f}\"]\n",
    "        ]).scale(0.7).to_corner(UL)\n",
    "        self.play(Write(mat_rotation))\n",
    "        self.wait(1)\n",
    "        \n",
    "        # Vecteurs transformés\n",
    "        transformed_i = Arrow(ax.c2p(0, 0, 0), \n",
    "                              ax.c2p(rotation_matrix[0][0]*3, rotation_matrix[1][0]*3, 0),\n",
    "                              buff=0, color=RED)\n",
    "        transformed_j = Arrow(ax.c2p(0, 0, 0), \n",
    "                              ax.c2p(rotation_matrix[0][1]*3, rotation_matrix[1][1]*3, 0),\n",
    "                              buff=0, color=GREEN)\n",
    "        \n",
    "        # Transformation des vecteurs\n",
    "        self.play(\n",
    "            Transform(i_vector, transformed_i),\n",
    "            Transform(j_vector, transformed_j),\n",
    "            Transform(label_i, MathTex(\"\\\\vec{e}_1'\").next_to(transformed_i.get_end(), RIGHT)),\n",
    "            Transform(label_j, MathTex(\"\\\\vec{e}_2'\").next_to(transformed_j.get_end(), UP))\n",
    "        )\n",
    "        self.wait(2)\n",
    "        \n",
    "        # Optionnel : Dessiner l'angle de rotation\n",
    "        angle_arc = Arc(\n",
    "            radius=0.5,\n",
    "            start_angle=0,\n",
    "            angle=angle,\n",
    "            arc_center=ax.c2p(0, 0, 0),\n",
    "            color=YELLOW\n",
    "        )\n",
    "        angle_label = MathTex(\"90^\\\\circ\").next_to(angle_arc, RIGHT+0.05*UP)\n",
    "        self.play(Create(angle_arc), Write(angle_label))\n",
    "        self.wait(10)"
   ]
  },
  {
   "cell_type": "markdown",
   "metadata": {},
   "source": [
    "## Composition d'une matrice orthogonale et d'une matrice diagonale (rotation et dilatation)"
   ]
  },
  {
   "cell_type": "code",
   "execution_count": 6,
   "metadata": {},
   "outputs": [
    {
     "data": {
      "text/html": [
       "<pre style=\"white-space:pre;overflow-x:auto;line-height:normal;font-family:Menlo,'DejaVu Sans Mono',consolas,'Courier New',monospace\">Manim Community <span style=\"color: #008000; text-decoration-color: #008000\">v0.18.1</span>\n",
       "\n",
       "</pre>\n"
      ],
      "text/plain": [
       "Manim Community \u001b[32mv0.\u001b[0m\u001b[32m18.1\u001b[0m\n",
       "\n"
      ]
     },
     "metadata": {},
     "output_type": "display_data"
    },
    {
     "name": "stderr",
     "output_type": "stream",
     "text": [
      "                                                                                        \r"
     ]
    },
    {
     "data": {
      "text/html": [
       "<video src=\"media/jupyter/CompositionTransformation@2024-12-06@11-41-28.mp4\" controls autoplay loop style=\"max-width: 60%;\"  >\n",
       "      Your browser does not support the <code>video</code> element.\n",
       "    </video>"
      ],
      "text/plain": [
       "<IPython.core.display.Video object>"
      ]
     },
     "metadata": {},
     "output_type": "display_data"
    }
   ],
   "source": [
    "%%manim -qm -v WARNING CompositionTransformation\n",
    "\n",
    "class CompositionTransformation(Scene):\n",
    "    def construct(self):\n",
    "        # Création du quadrillage\n",
    "        ax = NumberPlane(\n",
    "            y_range=[-5, 5, 1],\n",
    "            x_range=[-5, 5, 1],\n",
    "            y_length=8,\n",
    "            x_length=8,\n",
    "            background_line_style={\"stroke_opacity\": 0.4}\n",
    "        )\n",
    "        self.play(Create(ax))\n",
    "        \n",
    "        # Définition des vecteurs de base\n",
    "        i_vector = Arrow(ax.c2p(0, 0, 0), ax.c2p(3, 0, 0), buff=0, color=RED)\n",
    "        j_vector = Arrow(ax.c2p(0, 0, 0), ax.c2p(0, 3, 0), buff=0, color=GREEN)\n",
    "        \n",
    "        # Étiquettes des vecteurs de base\n",
    "        label_i = MathTex(\"\\\\vec{e}_1\").next_to(i_vector.get_end(), DOWN)\n",
    "        label_j = MathTex(\"\\\\vec{e}_2\").next_to(j_vector.get_end(), LEFT)\n",
    "        \n",
    "        self.play(Create(i_vector), Write(label_i))\n",
    "        self.play(Create(j_vector), Write(label_j))\n",
    "        self.wait(1)\n",
    "        \n",
    "        # Définition des matrices\n",
    "        rotation_angle = 45 * DEGREES\n",
    "        rotation_matrix = np.array([\n",
    "            [np.cos(rotation_angle), -np.sin(rotation_angle)],\n",
    "            [np.sin(rotation_angle),  np.cos(rotation_angle)]\n",
    "        ])\n",
    "        \n",
    "        scaling_factors = [3.5, 2]\n",
    "        scaling_matrix = np.array([\n",
    "            [scaling_factors[0], 0],\n",
    "            [0, scaling_factors[1]]\n",
    "        ])\n",
    "        \n",
    "        # Composition des transformations: rotation après scaling\n",
    "        composed_matrix = rotation_matrix @ scaling_matrix\n",
    "        \n",
    "        # Création des matrices sous forme de texte\n",
    "        mat_rotation = Matrix([\n",
    "            [f\"{np.cos(rotation_angle):.2f}\", f\"{-np.sin(rotation_angle):.2f}\"],\n",
    "            [f\"{np.sin(rotation_angle):.2f}\", f\"{np.cos(rotation_angle):.2f}\"]\n",
    "        ], element_to_mobject=lambda x: MathTex(x))\n",
    "        \n",
    "        mat_scaling = Matrix([\n",
    "            [f\"{scaling_factors[0]}\", \"0\"],\n",
    "            [\"0\", f\"{scaling_factors[1]}\"]\n",
    "        ], element_to_mobject=lambda x: MathTex(x))\n",
    "        \n",
    "        mat_composed = Matrix([\n",
    "            [f\"{composed_matrix[0][0]:.2f}\", f\"{composed_matrix[0][1]:.2f}\"],\n",
    "            [f\"{composed_matrix[1][0]:.2f}\", f\"{composed_matrix[1][1]:.2f}\"]\n",
    "        ], element_to_mobject=lambda x: MathTex(x))\n",
    "        \n",
    "        # Positionnement des matrices en bas de l'écran\n",
    "        mat_rotation.to_edge(DOWN).shift(LEFT*4)\n",
    "        mat_scaling.to_edge(DOWN).shift(RIGHT*0.1)\n",
    "        mat_composed.to_edge(DOWN).shift(RIGHT*4)\n",
    "        \n",
    "        # Création des opérateurs\n",
    "        times = MathTex(\"\\\\times\").next_to(mat_scaling, LEFT, buff=0.5)\n",
    "        equals = MathTex(\"=\").next_to(mat_scaling, RIGHT, buff=0.5)\n",
    "        \n",
    "        # Affichage des matrices avec les opérateurs\n",
    "        self.play(Write(mat_rotation), Write(mat_scaling))\n",
    "        self.play(Write(times))\n",
    "        self.play(Write(equals))\n",
    "        self.play(Write(mat_composed))\n",
    "        self.wait(1)\n",
    "        \n",
    "        # Transformation Scaling\n",
    "        self.play(Indicate(mat_scaling))\n",
    "        self.wait(1)\n",
    "        \n",
    "        # Transformation des vecteurs par le scaling\n",
    "        transformed_i_scaled = Arrow(\n",
    "            ax.c2p(0, 0, 0),\n",
    "            ax.c2p(scaling_matrix[0][0]*1, scaling_matrix[1][0]*1, 0),\n",
    "            buff=0, color=RED\n",
    "        )\n",
    "        transformed_j_scaled = Arrow(\n",
    "            ax.c2p(0, 0, 0),\n",
    "            ax.c2p(scaling_matrix[0][1]*1, scaling_matrix[1][1]*1, 0),\n",
    "            buff=0, color=GREEN\n",
    "        )\n",
    "        \n",
    "        label_i_scaled = MathTex(\"\\\\vec{e}_1\").next_to(transformed_i_scaled.get_end(), DOWN)\n",
    "        label_j_scaled = MathTex(\"\\\\vec{e}_2\").next_to(transformed_j_scaled.get_end(), LEFT)\n",
    "        \n",
    "        self.play(\n",
    "            Transform(i_vector, transformed_i_scaled),\n",
    "            Transform(j_vector, transformed_j_scaled),\n",
    "            Transform(label_i, label_i_scaled),\n",
    "            Transform(label_j, label_j_scaled)\n",
    "        )\n",
    "        self.wait(1)\n",
    "        \n",
    "        # Transformation Rotation\n",
    "        self.play(Indicate(mat_rotation))\n",
    "        self.wait(1)\n",
    "        \n",
    "        # Transformation des vecteurs scalés par la rotation\n",
    "        transformed_i_rot = Arrow(\n",
    "            ax.c2p(0, 0, 0),\n",
    "            ax.c2p(\n",
    "                composed_matrix[0][0]*1,  # Appliquer rotation après scaling\n",
    "                composed_matrix[1][0]*1,\n",
    "                0\n",
    "            ),\n",
    "            buff=0, color=RED\n",
    "        )\n",
    "        transformed_j_rot = Arrow(\n",
    "            ax.c2p(0, 0, 0),\n",
    "            ax.c2p(\n",
    "                composed_matrix[0][1]*1,\n",
    "                composed_matrix[1][1]*1,\n",
    "                0\n",
    "            ),\n",
    "            buff=0, color=GREEN\n",
    "        )\n",
    "        \n",
    "        label_i_rot = MathTex(\"\\\\vec{e}_1'\").next_to(transformed_i_rot.get_end(), DOWN)\n",
    "        label_j_rot = MathTex(\"\\\\vec{e}_2'\").next_to(transformed_j_rot.get_end(), LEFT)\n",
    "        \n",
    "        self.play(\n",
    "            Transform(i_vector, transformed_i_rot),\n",
    "            Transform(j_vector, transformed_j_rot),\n",
    "            Transform(label_i, label_i_rot),\n",
    "            Transform(label_j, label_j_rot)\n",
    "        )\n",
    "        self.wait(1)\n",
    "        \n",
    "        # Affichage de la transformation composée\n",
    "        self.play(Indicate(mat_composed))\n",
    "        self.wait(1)\n",
    "        \n",
    "        # Transformation finale en une seule étape\n",
    "        final_i = Arrow(\n",
    "            ax.c2p(0, 0, 0),\n",
    "            ax.c2p(composed_matrix[0][0]*1, composed_matrix[1][0]*1, 0),\n",
    "            buff=0, color=RED\n",
    "        )\n",
    "        final_j = Arrow(\n",
    "            ax.c2p(0, 0, 0),\n",
    "            ax.c2p(composed_matrix[0][1]*1, composed_matrix[1][1]*1, 0),\n",
    "            buff=0, color=GREEN\n",
    "        )\n",
    "        \n",
    "        final_label_i = MathTex(\"\\\\vec{e}_1'\").next_to(final_i.get_end(), DOWN)\n",
    "        final_label_j = MathTex(\"\\\\vec{e}_2'\").next_to(final_j.get_end(), LEFT)\n",
    "        \n",
    "        self.play(\n",
    "            Transform(i_vector, final_i),\n",
    "            Transform(j_vector, final_j),\n",
    "            Transform(label_i, final_label_i),\n",
    "            Transform(label_j, final_label_j)\n",
    "        )\n",
    "        self.wait(2)"
   ]
  },
  {
   "cell_type": "markdown",
   "metadata": {},
   "source": [
    "## Composition en 3D"
   ]
  },
  {
   "cell_type": "code",
   "execution_count": 7,
   "metadata": {},
   "outputs": [
    {
     "data": {
      "text/html": [
       "<pre style=\"white-space:pre;overflow-x:auto;line-height:normal;font-family:Menlo,'DejaVu Sans Mono',consolas,'Courier New',monospace\">Manim Community <span style=\"color: #008000; text-decoration-color: #008000\">v0.18.1</span>\n",
       "\n",
       "</pre>\n"
      ],
      "text/plain": [
       "Manim Community \u001b[32mv0.\u001b[0m\u001b[32m18.1\u001b[0m\n",
       "\n"
      ]
     },
     "metadata": {},
     "output_type": "display_data"
    },
    {
     "name": "stderr",
     "output_type": "stream",
     "text": [
      "                                                                                           \r"
     ]
    },
    {
     "data": {
      "text/html": [
       "<video src=\"media/jupyter/CompositionTransformation3D@2024-12-06@11-41-49.mp4\" controls autoplay loop style=\"max-width: 60%;\"  >\n",
       "      Your browser does not support the <code>video</code> element.\n",
       "    </video>"
      ],
      "text/plain": [
       "<IPython.core.display.Video object>"
      ]
     },
     "metadata": {},
     "output_type": "display_data"
    }
   ],
   "source": [
    "%%manim -qm -v WARNING CompositionTransformation3D\n",
    "\n",
    "class CompositionTransformation3D(ThreeDScene):\n",
    "    def construct(self):\n",
    "        # Création du repère 3D\n",
    "        axes = ThreeDAxes(\n",
    "            x_range=[-5, 5, 1],\n",
    "            y_range=[-5, 5, 1],\n",
    "            z_range=[-5, 5, 1],\n",
    "            x_length=8,\n",
    "            y_length=8,\n",
    "            z_length=8,\n",
    "            axis_config={\"color\": GREY},\n",
    "        )\n",
    "        # Déplacer la caméra pour mieux voir le repère en 3D (vue sur le côté)\n",
    "        self.set_camera_orientation(phi=70 * DEGREES, theta=45 * DEGREES)\n",
    "        \n",
    "        self.play(Create(axes))\n",
    "        \n",
    "        # Matrice de scaling\n",
    "        scaling_matrix = np.array([\n",
    "            [4, 0, 0],\n",
    "            [0, 3, 0],\n",
    "            [0, 0, 2]\n",
    "        ])\n",
    "\n",
    "        # Vecteurs unitaires i, j, k\n",
    "        i_vector = Arrow(start=ORIGIN, end=axes.c2p(1, 0, 0), buff=0, color=RED)  # Axe x\n",
    "        j_vector = Arrow(start=ORIGIN, end=axes.c2p(0, 1, 0), buff=0, color=GREEN)  # Axe y\n",
    "        k_vector = Arrow(start=ORIGIN, end=axes.c2p(0, 0, 1), buff=0, color=BLUE)  # Axe z\n",
    "\n",
    "        # Ajout des vecteurs au repère\n",
    "        self.add(i_vector, j_vector, k_vector)\n",
    "\n",
    "        # Vecteurs transformés selon la matrice de scaling 3x3\n",
    "        transformed_i_scaled_end = [scaling_matrix[0][0], scaling_matrix[1][0], scaling_matrix[2][0]]\n",
    "        transformed_j_scaled_end = [scaling_matrix[0][1], scaling_matrix[1][1], scaling_matrix[2][1]]\n",
    "        transformed_k_scaled_end = [scaling_matrix[0][2], scaling_matrix[1][2], scaling_matrix[2][2]]\n",
    "\n",
    "        # Animation de la transformation de scaling\n",
    "        self.begin_ambient_camera_rotation(rate=0.2)\n",
    "        self.wait(1)\n",
    "        self.play(\n",
    "            i_vector.animate.put_start_and_end_on(ORIGIN, axes.c2p(*transformed_i_scaled_end)),\n",
    "            j_vector.animate.put_start_and_end_on(ORIGIN, axes.c2p(*transformed_j_scaled_end)),\n",
    "            k_vector.animate.put_start_and_end_on(ORIGIN, axes.c2p(*transformed_k_scaled_end)),\n",
    "            run_time=2\n",
    "        )\n",
    "        self.wait(1)\n",
    "\n",
    "        # Définition de la matrice de rotation autour de l'axe z de 45 degrés\n",
    "        rotation_angle = 45 * DEGREES\n",
    "        rotation_matrix = np.array([\n",
    "            [np.cos(rotation_angle), -np.sin(rotation_angle), 0],\n",
    "            [np.sin(rotation_angle),  np.cos(rotation_angle), 0],\n",
    "            [0, 0, 1]\n",
    "        ])\n",
    "\n",
    "        # Composition des transformations: rotation après scaling\n",
    "        composed_matrix = rotation_matrix @ scaling_matrix\n",
    "\n",
    "        # Vecteurs transformés selon la matrice de rotation après scaling\n",
    "        transformed_i_rot_end = [composed_matrix[0][0], composed_matrix[1][0], composed_matrix[2][0]]\n",
    "        transformed_j_rot_end = [composed_matrix[0][1], composed_matrix[1][1], composed_matrix[2][1]]\n",
    "        transformed_k_rot_end = [composed_matrix[0][2], composed_matrix[1][2], composed_matrix[2][2]]\n",
    "\n",
    "        # Animation de la transformation de rotation\n",
    "        self.play(\n",
    "            i_vector.animate.put_start_and_end_on(ORIGIN, axes.c2p(*transformed_i_rot_end)),\n",
    "            j_vector.animate.put_start_and_end_on(ORIGIN, axes.c2p(*transformed_j_rot_end)),\n",
    "            k_vector.animate.put_start_and_end_on(ORIGIN, axes.c2p(*transformed_k_rot_end)),\n",
    "            run_time=2\n",
    "        )\n",
    "        self.wait(2)\n",
    "\n",
    "        # Continuer la rotation de la caméra pour mieux voir le résultat final\n",
    "        self.begin_ambient_camera_rotation(rate=0.2)\n",
    "        self.wait(5)\n",
    "        self.stop_ambient_camera_rotation()\n",
    "        self.wait(2)"
   ]
  },
  {
   "cell_type": "code",
   "execution_count": null,
   "metadata": {},
   "outputs": [],
   "source": []
  }
 ],
 "metadata": {
  "kernelspec": {
   "display_name": "env_manim",
   "language": "python",
   "name": "python3"
  },
  "language_info": {
   "codemirror_mode": {
    "name": "ipython",
    "version": 3
   },
   "file_extension": ".py",
   "mimetype": "text/x-python",
   "name": "python",
   "nbconvert_exporter": "python",
   "pygments_lexer": "ipython3",
   "version": "3.11.8"
  }
 },
 "nbformat": 4,
 "nbformat_minor": 2
}
