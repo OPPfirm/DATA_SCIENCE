{
 "cells": [
  {
   "cell_type": "markdown",
   "metadata": {},
   "source": [
    "# Déterminants"
   ]
  },
  {
   "cell_type": "code",
   "execution_count": 1,
   "metadata": {},
   "outputs": [],
   "source": [
    "from manim import *"
   ]
  },
  {
   "cell_type": "markdown",
   "metadata": {},
   "source": [
    "## Interprétation geometrique en dimension 2"
   ]
  },
  {
   "cell_type": "code",
   "execution_count": 5,
   "metadata": {},
   "outputs": [
    {
     "data": {
      "text/html": [
       "<pre style=\"white-space:pre;overflow-x:auto;line-height:normal;font-family:Menlo,'DejaVu Sans Mono',consolas,'Courier New',monospace\">Manim Community <span style=\"color: #008000; text-decoration-color: #008000\">v0.18.1</span>\n",
       "\n",
       "</pre>\n"
      ],
      "text/plain": [
       "Manim Community \u001b[32mv0.\u001b[0m\u001b[32m18.1\u001b[0m\n",
       "\n"
      ]
     },
     "metadata": {},
     "output_type": "display_data"
    },
    {
     "name": "stderr",
     "output_type": "stream",
     "text": [
      "                                                                                                                                 \r"
     ]
    },
    {
     "data": {
      "text/html": [
       "<video src=\"media/jupyter/DeterminantInterpretation2D@2024-11-22@17-46-46.mp4\" controls autoplay loop style=\"max-width: 60%;\"  >\n",
       "      Your browser does not support the <code>video</code> element.\n",
       "    </video>"
      ],
      "text/plain": [
       "<IPython.core.display.Video object>"
      ]
     },
     "metadata": {},
     "output_type": "display_data"
    }
   ],
   "source": [
    "%%manim -qm -v WARNING DeterminantInterpretation2D\n",
    "\n",
    "class DeterminantInterpretation2D(Scene):\n",
    "    def construct(self):\n",
    "        # Création du quadrillage\n",
    "        ax = NumberPlane(\n",
    "            y_range=[-1, 6, 1],\n",
    "            x_range=[-1, 6, 1],\n",
    "            y_length=8,\n",
    "            x_length=8,\n",
    "            background_line_style={\"stroke_opacity\": 0.4}\n",
    "        )\n",
    "        self.play(Create(ax))\n",
    "\n",
    "        # Définition des vecteurs de base\n",
    "        i_vector = Arrow(ax.c2p(0, 0, 0), ax.c2p(1, 0, 0), buff=0, color=RED)\n",
    "        j_vector = Arrow(ax.c2p(0, 0, 0), ax.c2p(0, 1, 0), buff=0, color=GREEN)\n",
    "\n",
    "        # Étiquettes des vecteurs de base\n",
    "        label_i = MathTex(\"\\\\vec{e}_1\").next_to(i_vector.get_end(), DOWN)\n",
    "        label_j = MathTex(\"\\\\vec{e}_2\").next_to(j_vector.get_end(), LEFT)\n",
    "\n",
    "        self.play(Create(i_vector), Write(label_i))\n",
    "        self.play(Create(j_vector), Write(label_j))\n",
    "        self.wait(1)\n",
    "\n",
    "        # Création du carré unité\n",
    "        unit_square = Polygon(\n",
    "            ax.c2p(0, 0, 0),\n",
    "            ax.c2p(1, 0, 0),\n",
    "            ax.c2p(1, 1, 0),\n",
    "            ax.c2p(0, 1, 0),\n",
    "            color=BLUE,\n",
    "            fill_opacity=0.2\n",
    "        )\n",
    "        self.play(Create(unit_square))\n",
    "        self.wait(1)\n",
    "\n",
    "        # Définition de la matrice de scaling diagonale\n",
    "        scaling_matrix = np.array([\n",
    "            [2, 0],\n",
    "            [0, 3]\n",
    "        ])  # Scaling factors 2x and 3y\n",
    "\n",
    "        # Transformation des vecteurs par la matrice de scaling\n",
    "        transformed_i = Arrow(ax.c2p(0, 0, 0), ax.c2p(scaling_matrix[0][0], 0, 0), buff=0, color=RED)\n",
    "        transformed_j = Arrow(ax.c2p(0, 0, 0), ax.c2p(0, scaling_matrix[1][1], 0), buff=0, color=GREEN)\n",
    "        \n",
    "        # Affichage de la matrice de scaling\n",
    "        scaling_matrix_tex = MathTex(r\"\\begin{bmatrix} 2 & 0 \\\\ 0 & 3 \\end{bmatrix}\").to_corner(UL)\n",
    "        self.play(Write(scaling_matrix_tex))\n",
    "        self.wait(1)\n",
    "        # Affichage du déterminant en dessous de la matrice\n",
    "        determinant = MathTex(r\"\\text{det}=6\").next_to(scaling_matrix_tex, DOWN)\n",
    "        self.play(Write(determinant))\n",
    "        self.wait(1)\n",
    "\n",
    "        # Transformation des vecteurs avec animation\n",
    "        self.play(\n",
    "            Transform(i_vector, transformed_i),\n",
    "            Transform(j_vector, transformed_j),\n",
    "            Transform(label_i, MathTex(\"2\\\\vec{e}_1\").next_to(transformed_i.get_end(), DOWN)),\n",
    "            Transform(label_j, MathTex(\"3\\\\vec{e}_2\").next_to(transformed_j.get_end(), LEFT))\n",
    "        )\n",
    "        self.wait(1)\n",
    "\n",
    "        # Transformation du carré unité en rectangle transformé\n",
    "        transformed_square = Polygon(\n",
    "            ax.c2p(0, 0, 0),\n",
    "            ax.c2p(scaling_matrix[0][0], 0, 0),\n",
    "            ax.c2p(scaling_matrix[0][0], scaling_matrix[1][1], 0),\n",
    "            ax.c2p(0, scaling_matrix[1][1], 0),\n",
    "            color=BLUE,\n",
    "            fill_opacity=0.2\n",
    "        )\n",
    "        self.play(Transform(unit_square, transformed_square))\n",
    "        self.wait(1)\n",
    "\n",
    "        # Ajout des labels d'aire\n",
    "        original_area = MathTex(\"1\").move_to(ax.c2p(0.5, 0.5, 0)).set_color(BLUE)\n",
    "        transformed_area = MathTex(\"6\").move_to(ax.c2p(2.5, 1.5, 0)).set_color(BLUE)\n",
    "\n",
    "        self.play(Write(original_area))\n",
    "        self.play(Transform(original_area, transformed_area))\n",
    "\n",
    "        self.wait(2)"
   ]
  },
  {
   "cell_type": "markdown",
   "metadata": {},
   "source": [
    "## Interprétation géométrique en dimension 3"
   ]
  },
  {
   "cell_type": "code",
   "execution_count": 23,
   "metadata": {},
   "outputs": [
    {
     "data": {
      "text/html": [
       "<pre style=\"white-space:pre;overflow-x:auto;line-height:normal;font-family:Menlo,'DejaVu Sans Mono',consolas,'Courier New',monospace\">Manim Community <span style=\"color: #008000; text-decoration-color: #008000\">v0.18.1</span>\n",
       "\n",
       "</pre>\n"
      ],
      "text/plain": [
       "Manim Community \u001b[32mv0.\u001b[0m\u001b[32m18.1\u001b[0m\n",
       "\n"
      ]
     },
     "metadata": {},
     "output_type": "display_data"
    },
    {
     "name": "stderr",
     "output_type": "stream",
     "text": [
      "                                                                                                \r"
     ]
    },
    {
     "data": {
      "text/html": [
       "<video src=\"media/jupyter/DeterminantInterpretation3D@2024-11-22@18-31-00.mp4\" controls autoplay loop style=\"max-width: 60%;\"  >\n",
       "      Your browser does not support the <code>video</code> element.\n",
       "    </video>"
      ],
      "text/plain": [
       "<IPython.core.display.Video object>"
      ]
     },
     "metadata": {},
     "output_type": "display_data"
    }
   ],
   "source": [
    "%%manim -qm -v WARNING DeterminantInterpretation3D\n",
    "\n",
    "class DeterminantInterpretation3D(ThreeDScene):\n",
    "    def construct(self):\n",
    "        # Création du repère 3D\n",
    "        axes = ThreeDAxes(\n",
    "            x_range=[-5, 5, 1],\n",
    "            y_range=[-5, 5, 1],\n",
    "            z_range=[-5, 5, 1],\n",
    "            x_length=8,\n",
    "            y_length=8,\n",
    "            z_length=8,\n",
    "            axis_config={\"color\": GREY},\n",
    "        )\n",
    "        # Déplacer la caméra pour mieux voir le repère en 3D (vue sur le côté)\n",
    "        self.set_camera_orientation(phi=70 * DEGREES, theta=230 * DEGREES)\n",
    "        self.play(Create(axes))\n",
    "        self.begin_ambient_camera_rotation(rate=0.1)\n",
    "        self.wait(1)\n",
    "        \n",
    "        # Matrice de scaling\n",
    "        scaling_matrix = np.array([\n",
    "            [4, 0, 0],\n",
    "            [0, 3, 0],\n",
    "            [0, 0, 2]\n",
    "        ])\n",
    "\n",
    "        # Vecteurs unitaires i, j, k\n",
    "        i_vector = Arrow(start=ORIGIN, end=axes.c2p(1, 0, 0), buff=0, color=RED)    # Axe x\n",
    "        j_vector = Arrow(start=ORIGIN, end=axes.c2p(0, 1, 0), buff=0, color=GREEN)  # Axe y\n",
    "        k_vector = Arrow(start=ORIGIN, end=axes.c2p(0, 0, 1), buff=0, color=BLUE)   # Axe z\n",
    "\n",
    "        # Ajout des vecteurs au repère\n",
    "        self.add(i_vector, j_vector, k_vector)\n",
    "        \n",
    "        # Définition des étiquettes des vecteurs de base\n",
    "        label_i = MathTex(\"\\\\vec{e}_1\").next_to(i_vector.get_end(), DOWN).rotate(90*DEGREES, axis=RIGHT)\n",
    "        label_j = MathTex(\"\\\\vec{e}_2\").next_to(j_vector.get_end(), LEFT).rotate(90*DEGREES, axis=RIGHT)\n",
    "        label_k = MathTex(\"\\\\vec{e}_3\").next_to(k_vector.get_end(), LEFT).rotate(90*DEGREES, axis=RIGHT)\n",
    "        \n",
    "        self.play(Write(label_i), Write(label_j), Write(label_k))\n",
    "        self.wait(1)\n",
    "        \n",
    "        # Ajout du volume du cube (un coin en (0, 0, 0) et l'autre en (1, 1, 1))\n",
    "        # Définition des sommets du cube unitaire\n",
    "        cube_vertices = [\n",
    "            axes.c2p(0, 0, 0),\n",
    "            axes.c2p(1, 0, 0),\n",
    "            axes.c2p(1, 1, 0),\n",
    "            axes.c2p(0, 1, 0),\n",
    "            axes.c2p(0, 0, 1),\n",
    "            axes.c2p(1, 0, 1),\n",
    "            axes.c2p(1, 1, 1),\n",
    "            axes.c2p(0, 1, 1)\n",
    "        ]\n",
    "        \n",
    "        # Définition des faces du cube\n",
    "        cube_faces = VGroup(\n",
    "            Polygon(cube_vertices[0], cube_vertices[1], cube_vertices[2], cube_vertices[3], color=BLUE, fill_opacity=0.2),\n",
    "            Polygon(cube_vertices[4], cube_vertices[5], cube_vertices[6], cube_vertices[7], color=BLUE, fill_opacity=0.2),\n",
    "            Polygon(cube_vertices[0], cube_vertices[1], cube_vertices[5], cube_vertices[4], color=BLUE, fill_opacity=0.2),\n",
    "            Polygon(cube_vertices[2], cube_vertices[3], cube_vertices[7], cube_vertices[6], color=BLUE, fill_opacity=0.2),\n",
    "            Polygon(cube_vertices[0], cube_vertices[3], cube_vertices[7], cube_vertices[4], color=BLUE, fill_opacity=0.2),\n",
    "            Polygon(cube_vertices[1], cube_vertices[2], cube_vertices[6], cube_vertices[5], color=BLUE, fill_opacity=0.2)\n",
    "        )\n",
    "        \n",
    "        self.play(Create(cube_faces))\n",
    "        self.wait(1)\n",
    "\n",
    "        # Vecteurs transformés selon la matrice de scaling 3x3\n",
    "        transformed_i_scaled_end = scaling_matrix @ np.array([1, 0, 0])\n",
    "        transformed_j_scaled_end = scaling_matrix @ np.array([0, 1, 0])\n",
    "        transformed_k_scaled_end = scaling_matrix @ np.array([0, 0, 1])\n",
    "\n",
    "        # Animation de la transformation de scaling\n",
    "        self.wait(1)\n",
    "        self.play(\n",
    "            i_vector.animate.put_start_and_end_on(ORIGIN, axes.c2p(*transformed_i_scaled_end)),\n",
    "            j_vector.animate.put_start_and_end_on(ORIGIN, axes.c2p(*transformed_j_scaled_end)),\n",
    "            k_vector.animate.put_start_and_end_on(ORIGIN, axes.c2p(*transformed_k_scaled_end)),\n",
    "            Transform(label_i, MathTex(\"4\\\\vec{e}_1\").next_to(axes.c2p(*transformed_i_scaled_end), DOWN).rotate(90*DEGREES, axis=RIGHT)),\n",
    "            Transform(label_j, MathTex(\"3\\\\vec{e}_2\").next_to(axes.c2p(*transformed_j_scaled_end), LEFT).rotate(90*DEGREES, axis=RIGHT)),\n",
    "            Transform(label_k, MathTex(\"2\\\\vec{e}_3\").next_to(axes.c2p(*transformed_k_scaled_end), LEFT).rotate(90*DEGREES, axis=RIGHT)),\n",
    "            run_time=2\n",
    "        )\n",
    "        self.wait(1)\n",
    "        \n",
    "        # Transformation du cube unité en parallélépipède\n",
    "        scaled_cube_vertices = [\n",
    "            axes.c2p(0, 0, 0),\n",
    "            axes.c2p(4, 0, 0),\n",
    "            axes.c2p(4, 3, 0),\n",
    "            axes.c2p(0, 3, 0),\n",
    "            axes.c2p(0, 0, 2),\n",
    "            axes.c2p(4, 0, 2),\n",
    "            axes.c2p(4, 3, 2),\n",
    "            axes.c2p(0, 3, 2)\n",
    "        ]\n",
    "        \n",
    "        # Définition des faces du parallélépipède\n",
    "        scaled_faces = VGroup(\n",
    "            Polygon(scaled_cube_vertices[0], scaled_cube_vertices[1], scaled_cube_vertices[2], scaled_cube_vertices[3], color=BLUE, fill_opacity=0.2),\n",
    "            Polygon(scaled_cube_vertices[4], scaled_cube_vertices[5], scaled_cube_vertices[6], scaled_cube_vertices[7], color=BLUE, fill_opacity=0.2),\n",
    "            Polygon(scaled_cube_vertices[0], scaled_cube_vertices[1], scaled_cube_vertices[5], scaled_cube_vertices[4], color=BLUE, fill_opacity=0.2),\n",
    "            Polygon(scaled_cube_vertices[2], scaled_cube_vertices[3], scaled_cube_vertices[7], scaled_cube_vertices[6], color=BLUE, fill_opacity=0.2),\n",
    "            Polygon(scaled_cube_vertices[0], scaled_cube_vertices[3], scaled_cube_vertices[7], scaled_cube_vertices[4], color=BLUE, fill_opacity=0.2),\n",
    "            Polygon(scaled_cube_vertices[1], scaled_cube_vertices[2], scaled_cube_vertices[6], scaled_cube_vertices[5], color=BLUE, fill_opacity=0.2)\n",
    "        )\n",
    "        \n",
    "        # Animation de la transformation du cube en parallélépipède\n",
    "        self.play(\n",
    "            Transform(cube_faces, scaled_faces),\n",
    "            run_time=2\n",
    "        )\n",
    "        self.wait(1)\n",
    "\n",
    "        # Rotation de la caméra pour visualisation 3D\n",
    "        self.begin_ambient_camera_rotation(rate=0.1)\n",
    "        self.wait(5)\n",
    "        self.stop_ambient_camera_rotation()\n",
    "        self.wait(2)"
   ]
  },
  {
   "cell_type": "code",
   "execution_count": null,
   "metadata": {},
   "outputs": [],
   "source": []
  }
 ],
 "metadata": {
  "kernelspec": {
   "display_name": "env_manim",
   "language": "python",
   "name": "python3"
  },
  "language_info": {
   "codemirror_mode": {
    "name": "ipython",
    "version": 3
   },
   "file_extension": ".py",
   "mimetype": "text/x-python",
   "name": "python",
   "nbconvert_exporter": "python",
   "pygments_lexer": "ipython3",
   "version": "3.11.8"
  }
 },
 "nbformat": 4,
 "nbformat_minor": 2
}
