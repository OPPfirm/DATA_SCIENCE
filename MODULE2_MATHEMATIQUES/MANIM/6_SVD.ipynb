{
 "cells": [
  {
   "cell_type": "markdown",
   "metadata": {},
   "source": [
    "# Singular value decomposition"
   ]
  },
  {
   "cell_type": "code",
   "execution_count": null,
   "metadata": {},
   "outputs": [],
   "source": [
    "from manim import *"
   ]
  },
  {
   "cell_type": "markdown",
   "metadata": {},
   "source": []
  },
  {
   "cell_type": "markdown",
   "metadata": {},
   "source": [
    "## Visualisation de la SVD en décomposant les transformations linéaires "
   ]
  },
  {
   "cell_type": "code",
   "execution_count": null,
   "metadata": {},
   "outputs": [
    {
     "data": {
      "text/html": [
       "<pre style=\"white-space:pre;overflow-x:auto;line-height:normal;font-family:Menlo,'DejaVu Sans Mono',consolas,'Courier New',monospace\">Manim Community <span style=\"color: #008000; text-decoration-color: #008000\">v0.18.1</span>\n",
       "\n",
       "</pre>\n"
      ],
      "text/plain": [
       "Manim Community \u001b[32mv0.\u001b[0m\u001b[32m18.1\u001b[0m\n",
       "\n"
      ]
     },
     "metadata": {},
     "output_type": "display_data"
    },
    {
     "name": "stdout",
     "output_type": "stream",
     "text": [
      "U = [[ 0.6011819  -0.79911221]\n",
      " [ 0.79911221  0.6011819 ]]\n",
      "Sigma = [3.85876011 1.1661777 ]\n",
      "Vt = [[ 0.51868371  0.8549662 ]\n",
      " [-0.8549662   0.51868371]]\n"
     ]
    },
    {
     "name": "stderr",
     "output_type": "stream",
     "text": [
      "                                                                                                                \r"
     ]
    },
    {
     "data": {
      "text/html": [
       "<video src=\"media/jupyter/SVDAnimation@2024-11-26@11-16-46.mp4\" controls autoplay loop style=\"max-width: 60%;\"  >\n",
       "      Your browser does not support the <code>video</code> element.\n",
       "    </video>"
      ],
      "text/plain": [
       "<IPython.core.display.Video object>"
      ]
     },
     "metadata": {},
     "output_type": "display_data"
    }
   ],
   "source": [
    "%%manim -qm -v WARNING SVDAnimation\n",
    "\n",
    "\n",
    "class SVDAnimation(Scene):\n",
    "    def construct(self):\n",
    "        # Définition de la matrice M\n",
    "        M = np.array([\n",
    "            [2, 1.5],\n",
    "            [1, 3]\n",
    "        ])\n",
    "        \n",
    "        # Tester si la matrice est carrée 2x2\n",
    "        if M.shape != (2, 2):\n",
    "            raise ValueError(\"La matrice M doit être carrée 2x2\")\n",
    "        \n",
    "        # Calcul du SVD de M: M = U * Sigma * Vt\n",
    "        U, Sigma, Vt = np.linalg.svd(M)\n",
    "        \n",
    "        # Vérification et correction des déterminants\n",
    "        if np.linalg.det(U) < 0:\n",
    "            U[:, 0] *= -1  # Inversion d'une colonne pour corriger U\n",
    "\n",
    "        if np.linalg.det(Vt) < 0:\n",
    "            Vt[0, :] *= -1  # Inversion d'une ligne pour corriger V^T\n",
    "        \n",
    "        # Création des axes 2D avec échelle uniforme\n",
    "        ax = Axes(\n",
    "            x_range=[-5, 5, 1],\n",
    "            y_range=[-5, 5, 1],\n",
    "            axis_config={\"color\": GREY},\n",
    "            x_length=7,\n",
    "            y_length=7,\n",
    "            tips=True\n",
    "        )\n",
    "        self.play(Create(ax))\n",
    "        \n",
    "        # Création du cercle unité en bleu\n",
    "        unit_circle = Rectangle(height=1, width=2, color=BLUE).move_to(ax.c2p(0, 0, 0))\n",
    "        self.play(Create(unit_circle))\n",
    "        \n",
    "        # Affichage de l'équation de décomposition SVD\n",
    "        svd_eq = MathTex(\"M\", \"=\", \"U\", \"\\\\Sigma\", \"V^T\").to_edge(LEFT+UP)\n",
    "        self.play(Write(svd_eq))\n",
    "        self.wait(1)\n",
    "        \n",
    "        # On applique un effet d'agrandissement du M de l'équation\n",
    "        self.play(svd_eq[0].animate.scale(2).set_color(GREEN))\n",
    "        self.wait(0.5)\n",
    "        self.play(svd_eq[0].animate.scale(1/2))\n",
    "        \n",
    "        # Création de la copie du cercle et application de M pour obtenir le cercle vert\n",
    "        transformed_circle = unit_circle.copy().apply_matrix(M)\n",
    "        transformed_circle.set_color(GREEN)\n",
    "        self.play(Transform(unit_circle, transformed_circle))\n",
    "        self.wait(1)\n",
    "        \n",
    "        # Remettre le cercle initial pour les transformations SVD\n",
    "        unit_circle = Rectangle(height=1, width=2, color=BLUE).move_to(ax.c2p(0, 0, 0))\n",
    "        self.play(Create(unit_circle))\n",
    "        self.wait(1)\n",
    "        \n",
    "        \n",
    "        # On applique un effet d'agrandissement du M de l'équation\n",
    "        self.play(svd_eq[4].animate.scale(2).set_color(BLUE))\n",
    "        self.wait(0.5)\n",
    "        self.play(svd_eq[4].animate.scale(1/2))\n",
    "        # Transformation avec V^T (Rotation)\n",
    "        Vt_matrix = Vt\n",
    "        angle_Vt = np.arctan2(Vt_matrix[1, 0], Vt_matrix[0, 0])\n",
    "        self.play(Rotate(unit_circle, angle_Vt, about_point=unit_circle.get_center()))\n",
    "        self.wait(1)\n",
    "\n",
    "        # On applique un effet d'agrandissement du M de l'équation\n",
    "        self.play(svd_eq[3].animate.scale(2).set_color(BLUE))\n",
    "        self.wait(0.5)\n",
    "        self.play(svd_eq[3].animate.scale(1/2))\n",
    "\n",
    "        # Transformation avec Sigma (Scaling)\n",
    "        Sigma_matrix = np.diag(Sigma)\n",
    "        self.play(unit_circle.animate.apply_matrix(Sigma_matrix))\n",
    "        self.wait(1)\n",
    "        \n",
    "        # On applique un effet d'agrandissement du M de l'équation\n",
    "        self.play(svd_eq[2].animate.scale(2).set_color(BLUE))\n",
    "        self.wait(0.5)\n",
    "        self.play(svd_eq[2].animate.scale(1/2))\n",
    "\n",
    "        # Transformation avec U (Rotation finale)\n",
    "        U_matrix = U\n",
    "        angle_U = np.arctan2(U_matrix[1, 0], U_matrix[0, 0])\n",
    "        self.play(Rotate(unit_circle, angle_U, about_point=unit_circle.get_center()))\n",
    "        self.wait(1)\n"
   ]
  },
  {
   "cell_type": "code",
   "execution_count": null,
   "metadata": {},
   "outputs": [],
   "source": []
  }
 ],
 "metadata": {
  "kernelspec": {
   "display_name": "env_manim",
   "language": "python",
   "name": "python3"
  },
  "language_info": {
   "codemirror_mode": {
    "name": "ipython",
    "version": 3
   },
   "file_extension": ".py",
   "mimetype": "text/x-python",
   "name": "python",
   "nbconvert_exporter": "python",
   "pygments_lexer": "ipython3",
   "version": "3.11.8"
  }
 },
 "nbformat": 4,
 "nbformat_minor": 2
}
